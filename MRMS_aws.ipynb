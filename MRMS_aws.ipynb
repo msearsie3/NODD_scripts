{
 "cells": [
  {
   "cell_type": "markdown",
   "id": "08465b58-9aba-4501-9373-cc312dc6affd",
   "metadata": {},
   "source": [
    "# Welcome to the Multi-Radar/Multi-Sensor System (MRMS) notebook!\n",
    "\n",
    "#### **Intent:** This notebook will find and visualize MRMS data for a selected location, product, date, and time range.    \n",
    "#### **Audience:** Anyone with at least 4GB of memory on their computer or computing environment. No programming experience required to go through this notebook, but it will help you understand where this data is coming from.     \n",
    "#### **Outcome:** A plot showing MRMS imagery from the selected region and product.          \n",
    "\n",
    "The MRMS system was developed to produce severe weather, transportation, and precipitation products for improved decision-making capability to improve hazardous weather forecasts and warnings, along with hydrology, aviation, and numerical weather prediction.\n",
    "\n",
    "MRMS is a system with fully-automated algorithms that quickly and intelligently integrate data streams from multiple radars, surface and upper air observations, lightning detection systems, satellite observations, and forecast models. Numerous two-dimensional multiple-sensor products offer assistance for hail, wind, tornado, quantitative precipitation estimations, convection, icing, and turbulence diagnosis. Find more information here: https://www.nssl.noaa.gov/projects/mrms/"
   ]
  },
  {
   "cell_type": "markdown",
   "id": "4ce4e36e-f393-40df-9b90-d52ee2322876",
   "metadata": {},
   "source": [
    "# Import statements"
   ]
  },
  {
   "cell_type": "code",
   "execution_count": null,
   "id": "de281d1b-b155-4674-b1b0-2401dc6306e6",
   "metadata": {
    "tags": []
   },
   "outputs": [],
   "source": [
    "import ipywidgets as widgets\n",
    "import requests\n",
    "import s3fs\n",
    "import numpy as np\n",
    "import matplotlib.pyplot as plt\n",
    "import cartopy.crs as ccrs\n",
    "import xarray as xr\n",
    "import datetime\n",
    "import numpy.ma as ma\n",
    "from metpy.plots import ctables\n",
    "import urllib.request\n",
    "import gzip\n",
    "import tempfile"
   ]
  },
  {
   "cell_type": "markdown",
   "id": "7f3d7583-88db-4cc7-a44f-9d01d956c535",
   "metadata": {},
   "source": [
    "# Definitions"
   ]
  },
  {
   "cell_type": "code",
   "execution_count": null,
   "id": "ef11a1ae-e937-436b-a419-59f7aef44d00",
   "metadata": {
    "tags": []
   },
   "outputs": [],
   "source": [
    "def aws_region():\n",
    "\n",
    "    global location_choice\n",
    "    \n",
    "    # Formatting settings for drop-down menus\n",
    "    style = {'description_width':'120px'}\n",
    "    layout = widgets.Layout(width='325px')   \n",
    "    \n",
    "    # Display drop-down menu\n",
    "    location_choice = widgets.Dropdown(options=[(\"ALASKA\"),(\"CARIB\"),(\"CONUS\"),(\"GUAM\"),(\"HAWAII\")], description='Region:', style=style, layout=layout)\n",
    "    display(location_choice)"
   ]
  },
  {
   "cell_type": "code",
   "execution_count": null,
   "id": "5043f60a-7424-4823-9946-7d9d1f469d4f",
   "metadata": {},
   "outputs": [],
   "source": [
    "def aws_product(location):\n",
    "    \n",
    "    global product_choice, tilt_choice\n",
    "\n",
    "    aws = s3fs.S3FileSystem(anon=True)\n",
    "    data_files = aws.ls(f'noaa-mrms-pds/{location}/', refresh=True)\n",
    "    \n",
    "    products = []\n",
    "    for j in data_files:\n",
    "        products.append(j[(15 + len(location)):])\n",
    "        \n",
    "    # Formatting settings for drop-down menus\n",
    "    style = {'description_width':'120px'}\n",
    "    layout = widgets.Layout(width='325px')  \n",
    "    \n",
    "    # Display drop-down menu\n",
    "    product_choice = widgets.Dropdown(options=[(\"MergedReflectivityQC\"),(\"MergedRhoHV\"),(\"MergedZdr\")], description='Radar Product:', style=style, layout=layout)\n",
    "    tilt_choice =  widgets.Dropdown(options=[(\"00.50\"),(\"00.75\"),(\"01.00\"),(\"01.25\"),(\"01.50\"),(\"01.75\"),(\"02.00\"),(\"02.25\"),(\"02.50\"),(\"02.75\"),(\"03.00\"),(\"03.50\"),(\"04.00\"),(\"04.50\"),(\"05.00\"),(\"05.50\"),(\"06.00\"),(\"06.50\"),(\"07.00\"),(\"07.50\"),(\"08.00\"),(\"08.50\"),(\"09.00\"),(\"10.00\"),(\"11.00\"),(\"12.00\"),(\"13.00\"),(\"14.00\"),(\"15.00\"),(\"16.00\"),(\"17.00\"),(\"18.00\"),(\"19.00\"),], description='Tilt:', style=style, layout=layout)\n",
    "    display(product_choice)\n",
    "    display(tilt_choice)"
   ]
  },
  {
   "cell_type": "code",
   "execution_count": null,
   "id": "c1d9d631-2301-4b00-924d-8c9a7214ff43",
   "metadata": {
    "tags": []
   },
   "outputs": [],
   "source": [
    "def aws_date(location, product, tilt):\n",
    "    \n",
    "    global year, day, month, shour, smin, ehour, emin\n",
    "            \n",
    "    aws = s3fs.S3FileSystem(anon=True)\n",
    "\n",
    "    # Date options to be shown in the drop-down menus \n",
    "    \n",
    "    year_options = []\n",
    "    full_product = product + \"_\" + tilt\n",
    "    years = aws.ls(f'noaa-mrms-pds/{location}/{full_product}/', refresh=True)\n",
    "    for y in years:\n",
    "        year_options.append(y[-8:-4])\n",
    "            \n",
    "    # Formatting settings for drop-down menus\n",
    "    style = {'description_width':'120px'}\n",
    "    layout = widgets.Layout(width='325px')\n",
    "    \n",
    "    # Display drop-down menus\n",
    "    year = widgets.Dropdown(options=[y for y in np.unique(year_options)], description='Year:', style=style, layout=layout)\n",
    "    month = widgets.Dropdown(options=[('Jan', '01'), ('Feb', '02'), ('Mar', '03'), ('Apr', '04'), ('May', '05'), ('Jun', '06'), ('Jul', '07'), ('Aug', '08'), ('Sep', '09'), ('Oct', '10'), ('Nov', '11'), ('Dec', '12')], description='Month:', style=style, layout=layout)\n",
    "    day = widgets.Dropdown(options=[('01'), ('02'), ('03'), ('04'), ('05'), ('06'), ('07'), ('08'), ('09'), ('10'), ('11'), ('12'), ('13'), ('14'), ('15'), ('16'), ('17'), ('18'), ('19'), ('20'), ('21'), ('22'), ('23'), ('24'), ('25'), ('26'), ('27'), ('28'), ('29'), ('30'), ('31')], description='Day:', style=style, layout=layout)\n",
    "    shour = widgets.Dropdown(options=[('00'), ('01'), ('02'), ('03'), ('04'), ('05'), ('06'), ('07'), ('08'), ('09'), ('10'), ('11'), ('12'), ('13'), ('14'), ('15'), ('16'), ('17'), ('18'), ('19'), ('20'), ('21'), ('22'), ('23')], description='Start Hour:', style=style, layout=layout)\n",
    "    smin = widgets.Dropdown(options=[('00'), ('01'), ('02'), ('03'), ('04'), ('05'), ('06'), ('07'), ('08'), ('09'), ('10'), ('11'), ('12'), ('13'), ('14'), ('15'), ('16'), ('17'), ('18'), ('19'), ('20'), ('21'), ('22'), ('23'), ('24'), ('25'), ('26'), ('27'), ('28'), ('29'), ('30'), ('31'), ('32'), ('33'), ('34'), ('35'), ('36'), ('37'), ('38'), ('39'), ('40'), ('41'), ('42'), ('43'), ('44'), ('45'), ('46'), ('47'), ('48'), ('49'), ('50'), ('51'), ('52'), ('53'), ('54'), ('55'), ('56'), ('57'), ('58'), ('59')], description='Start Minutes:', style=style, layout=layout)\n",
    "    ehour = widgets.Dropdown(options=[('00'), ('01'), ('02'), ('03'), ('04'), ('05'), ('06'), ('07'), ('08'), ('09'), ('10'), ('11'), ('12'), ('13'), ('14'), ('15'), ('16'), ('17'), ('18'), ('19'), ('20'), ('21'), ('22'), ('23')], description='End Hour:', style=style, layout=layout)\n",
    "    emin = widgets.Dropdown(options=[('00'), ('01'), ('02'), ('03'), ('04'), ('05'), ('06'), ('07'), ('08'), ('09'), ('10'), ('11'), ('12'), ('13'), ('14'), ('15'), ('16'), ('17'), ('18'), ('19'), ('20'), ('21'), ('22'), ('23'), ('24'), ('25'), ('26'), ('27'), ('28'), ('29'), ('30'), ('31'), ('32'), ('33'), ('34'), ('35'), ('36'), ('37'), ('38'), ('39'), ('40'), ('41'), ('42'), ('43'), ('44'), ('45'), ('46'), ('47'), ('48'), ('49'), ('50'), ('51'), ('52'), ('53'), ('54'), ('55'), ('56'), ('57'), ('58'), ('59')], description='End Minutes:', style=style, layout=layout)\n",
    "\n",
    "    start_time = widgets.HBox([shour, smin])\n",
    "    end_time = widgets.HBox([ehour, emin])\n",
    "\n",
    "    display(year, month, day)\n",
    "    display(start_time, end_time)"
   ]
  },
  {
   "cell_type": "code",
   "execution_count": null,
   "id": "41fe58f0-1553-40ab-bbd9-bf309542331a",
   "metadata": {
    "tags": []
   },
   "outputs": [],
   "source": [
    "def aws_data(location, product, tilt, year, month, day, shour, smin, ehour, emin):\n",
    "    \n",
    "    global fnames\n",
    "    \n",
    "    datestring = year + month + day\n",
    "    aws = s3fs.S3FileSystem(anon=True)\n",
    "    \n",
    "    full_product = product + \"_\" + tilt\n",
    "    data_files = aws.ls(f'noaa-mrms-pds/{location}/{full_product}/{datestring}/', refresh=True)\n",
    "\n",
    "    fnames = []\n",
    "\n",
    "    for d in data_files:\n",
    "        date_time = d[-15:-11]\n",
    "        if (int(date_time) >= int(shour + smin)) and (int(date_time) <= int(ehour + emin)):\n",
    "            fnames.append(d[14:])\n",
    "\n",
    "    print(f\"Your search found {len(fnames)} data file(s) that matched your criteria.\")"
   ]
  },
  {
   "cell_type": "code",
   "execution_count": null,
   "id": "57e8d490-dfd0-49f9-a3d1-fedbafe60951",
   "metadata": {
    "tags": []
   },
   "outputs": [],
   "source": [
    "def aws_plot(location, product):\n",
    "\n",
    "    for fname in fnames:\n",
    "        URL = f'https://noaa-mrms-pds.s3.amazonaws.com/{fname}'\n",
    "\n",
    "        response = urllib.request.urlopen(URL)\n",
    "        compressed_file = response.read()\n",
    "\n",
    "        with tempfile.NamedTemporaryFile(suffix=\".grib2\") as f:\n",
    "            f.write(gzip.decompress(compressed_file))\n",
    "            dataset = xr.load_dataset(f.name, engine='cfgrib')\n",
    "\n",
    "            # Identify plotting coordinates\n",
    "            lats = dataset.latitude.values\n",
    "            lons = dataset.longitude.values\n",
    "            vals = dataset.unknown.values\n",
    "            vals_nonmiss = ma.masked_where(vals <= 0, vals)\n",
    "\n",
    "            dataset.close()\n",
    "            f.close()\n",
    "\n",
    "        # Set Bounds\n",
    "        if location == \"ALASKA\":\n",
    "            minLat = 54    \n",
    "            maxLat = 71\n",
    "            minLon = -173 + 360.\n",
    "            maxLon = -130 + 360.\n",
    "            \n",
    "        elif location == \"CARIB\":\n",
    "            minLat = 15    \n",
    "            maxLat = 21\n",
    "            minLon = -70 + 360.\n",
    "            maxLon = -63 + 360.\n",
    "            \n",
    "        elif location == \"CONUS\":\n",
    "            minLat = 21    \n",
    "            maxLat = 48\n",
    "            minLon = -130 + 360.\n",
    "            maxLon = -60 + 360.\n",
    "            \n",
    "        elif location == \"GUAM\":\n",
    "            minLat = 11.5    \n",
    "            maxLat = 15\n",
    "            minLon = 146.5 \n",
    "            maxLon = 143 \n",
    "            \n",
    "        elif location == \"HAWAII\":\n",
    "            minLat = 18    \n",
    "            maxLat = 28\n",
    "            minLon = -178 + 360.\n",
    "            maxLon = -154 + 360.\n",
    "\n",
    "        title = \"MRMS Merged Reflectivity\"\n",
    "\n",
    "        fig = plt.figure(num=1, figsize=(8,5), facecolor='w', edgecolor='k')\n",
    "        ax = fig.add_axes([0, 0, 1, 1], projection=ccrs.Mercator())\n",
    "        ax.set_extent([minLon, maxLon, minLat, maxLat], crs=ccrs.Geodetic())\n",
    "        \n",
    "        # Set colors\n",
    "        if product == \"MergedReflectivityQC\":\n",
    "            ref_norm, ref_cmap = ctables.registry.get_with_steps('NWSReflectivity', 5, 5)\n",
    "            units = \"Reflectivity (dBZ)\"\n",
    "        if product == \"MergedRhoHV\":\n",
    "            ref_norm = None\n",
    "            ref_cmap = \"plasma\"\n",
    "            units = \"RhoHV\"\n",
    "        if product == \"MergedZdr\":\n",
    "            ref_norm = None\n",
    "            ref_cmap = \"viridis\"\n",
    "            units = \"ZDR (dBZ)\"\n",
    "            \n",
    "        # Add Boundaries\n",
    "        ax.add_feature(ccrs.cartopy.feature.STATES, linewidth=0.25)\n",
    "\n",
    "        # Plot Data\n",
    "        radarplot = ax.pcolormesh(lons, lats, vals_nonmiss,transform=ccrs.PlateCarree(),cmap=ref_cmap,norm=ref_norm)\n",
    "        cbar = plt.colorbar(radarplot)\n",
    "        cbar.set_label(units)\n",
    "\n",
    "        date_time = fname[-24:-9]\n",
    "        scan_time = datetime.datetime.strptime(date_time, \"%Y%m%d-%H%M%S\")\n",
    "        plt.title(f\"{title}\", loc='left', fontweight='bold')\n",
    "        plt.title('{}'.format(scan_time.strftime('%d %B %Y at %H:%M UTC')), loc='right')\n",
    "\n",
    "        plt.show()\n",
    "        plt.close('all')"
   ]
  },
  {
   "cell_type": "markdown",
   "id": "e612eda6-2eb0-4af8-b63a-4f005fc47a42",
   "metadata": {},
   "source": [
    "# Data input here!"
   ]
  },
  {
   "cell_type": "code",
   "execution_count": null,
   "id": "59c1922b-3776-455e-9f71-2c620a0461c9",
   "metadata": {
    "tags": []
   },
   "outputs": [],
   "source": [
    "aws_region()"
   ]
  },
  {
   "cell_type": "code",
   "execution_count": null,
   "id": "4d17063e-11cc-460b-ac10-47ad8e6434f4",
   "metadata": {
    "tags": []
   },
   "outputs": [],
   "source": [
    "aws_product(location_choice.value)"
   ]
  },
  {
   "cell_type": "code",
   "execution_count": null,
   "id": "05e44790-cec0-4201-9848-dab673acdba6",
   "metadata": {
    "tags": []
   },
   "outputs": [],
   "source": [
    "aws_date(location_choice.value, product_choice.value, tilt_choice.value)"
   ]
  },
  {
   "cell_type": "code",
   "execution_count": null,
   "id": "858b80d2-045f-4853-9bb4-db96cc7b559f",
   "metadata": {
    "tags": []
   },
   "outputs": [],
   "source": [
    "aws_data(location_choice.value, product_choice.value, tilt_choice.value, year.value, month.value, day.value, shour.value, smin.value, ehour.value, emin.value)"
   ]
  },
  {
   "cell_type": "code",
   "execution_count": null,
   "id": "97e823e7-8742-46b4-b7ec-38ff139c3dbe",
   "metadata": {
    "tags": []
   },
   "outputs": [],
   "source": [
    "aws_plot(location_choice.value, product_choice.value)"
   ]
  },
  {
   "cell_type": "markdown",
   "id": "f52e7423-05ff-447e-a167-f1c4c127a6e0",
   "metadata": {},
   "source": [
    "**MRMS Documentation:**\n",
    "- https://www.nssl.noaa.gov/projects/mrms/ (Product page)\n",
    "- https://www.nssl.noaa.gov/news/factsheets/MRMS_2015.March.16.pdf (Fact sheet)\n",
    "- https://mrms.nssl.noaa.gov/qvs/product_viewer/ (Operational product viewer)"
   ]
  },
  {
   "cell_type": "markdown",
   "id": "7e88cdf8-d346-4783-9331-f941d7124ae1",
   "metadata": {},
   "source": [
    "**Coding References:**\n",
    "- https://gitlab.cicsnc.org/jared/mrms-python/-/blob/088e0fac528efdfd2ff19ca912e6ed99bf3783a7/plot_mrms-AVL.py"
   ]
  },
  {
   "cell_type": "markdown",
   "id": "82e1421e-8de4-4a16-bf29-3cddf90f7ebd",
   "metadata": {},
   "source": [
    "**Cloud Access:**\n",
    "- AWS: https://registry.opendata.aws/noaa-mrms-pds/ "
   ]
  },
  {
   "cell_type": "markdown",
   "id": "f277e810-96df-4787-86bf-b84872982b0e",
   "metadata": {
    "tags": []
   },
   "source": [
    "The unique component of this Jupyter notebook is that you are not requried to download any datasets -- all data will be pulled directly from the AWS cloud. You can learn more about NOAA's efforts to move more data to the cloud at this site: https://www.noaa.gov/nodd/datasets. As we continute to make more data widely accessible on the cloud, we'll also create more Jupyter notebooks like this one, so anyone can visualize weather and climate data without any cost or restriction. "
   ]
  }
 ],
 "metadata": {
  "kernelspec": {
   "display_name": "Python 3 (ipykernel)",
   "language": "python",
   "name": "python3"
  },
  "language_info": {
   "codemirror_mode": {
    "name": "ipython",
    "version": 3
   },
   "file_extension": ".py",
   "mimetype": "text/x-python",
   "name": "python",
   "nbconvert_exporter": "python",
   "pygments_lexer": "ipython3",
   "version": "3.11.4"
  }
 },
 "nbformat": 4,
 "nbformat_minor": 5
}
