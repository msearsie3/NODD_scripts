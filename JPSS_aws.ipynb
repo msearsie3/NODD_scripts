{
 "cells": [
  {
   "cell_type": "markdown",
   "metadata": {
    "tags": []
   },
   "source": [
    "# Welcome to the AWS JPSS notebook!\n",
    "#### **Audience:** Anybody with a computer and access to at least 4GB of memory.\n",
    "#### **Intent:** Build familiarity with JPSS data for use in scientific research.\n",
    "#### **Outcome:** A plot featuring all swaths of JPSS data for a selected time range, product, and satellite.            \n",
    "\n",
    "This notebook is an introduction to accessing JPSS (SNPP, NOAA-20, and NOAA-21) satellite data from the AWS Cloud. No coding experience is required to complete this notebook, as all options are presented as Widgets, where you can select your desired product from a drop-down menu. As such, this notebook is meant for workshops, classrooms, or places where you don't want to spend time de-bugging code."
   ]
  },
  {
   "cell_type": "markdown",
   "metadata": {},
   "source": [
    "# Importing"
   ]
  },
  {
   "cell_type": "code",
   "execution_count": null,
   "metadata": {
    "tags": []
   },
   "outputs": [],
   "source": [
    "import ipywidgets as widgets\n",
    "import requests\n",
    "import netCDF4\n",
    "import s3fs\n",
    "import numpy as np\n",
    "import matplotlib.pyplot as plt\n",
    "import cartopy.crs as ccrs\n",
    "from cartopy import feature as cf\n",
    "import xarray\n",
    "from datetime import datetime\n",
    "import fsspec\n",
    "import h5py"
   ]
  },
  {
   "cell_type": "markdown",
   "metadata": {},
   "source": [
    "# Defining"
   ]
  },
  {
   "cell_type": "code",
   "execution_count": null,
   "metadata": {
    "tags": []
   },
   "outputs": [],
   "source": [
    "def aws_satellite():\n",
    "    \n",
    "    global satellite_choice\n",
    "\n",
    "    # Formatting settings for drop-down menus\n",
    "    style = {'description_width':'120px'}\n",
    "    layout = widgets.Layout(width='325px')\n",
    "\n",
    "    # Display drop-down menus\n",
    "    print(\"Select the satellite you'd like to use, then run the next cell to select a date.\")\n",
    "    satellite_choice = widgets.Dropdown(options=[(\"Suomi National Polar-orbiting Partnership (NPP)\",\"noaa-nesdis-snpp-pds\"),(\"JPSS-1 (NOAA20)\", \"noaa-nesdis-n20-pds\"), (\"JPSS-2 (NOAA21)\", \"noaa-nesdis-n21-pds\")], description='Satellite:', style=style, layout=layout)\n",
    "\n",
    "    display(satellite_choice)"
   ]
  },
  {
   "cell_type": "code",
   "execution_count": null,
   "metadata": {
    "tags": []
   },
   "outputs": [],
   "source": [
    "def aws_product(satellite):\n",
    "    \n",
    "    global product_choice\n",
    "    \n",
    "    # Formatting settings for drop-down menus\n",
    "    style = {'description_width':'120px'}\n",
    "    layout = widgets.Layout(width='325px')\n",
    "\n",
    "    # Display drop-down menus\n",
    "    print(\"Select the satellite product you'd like to use, then run the next cell to select a date.\")\n",
    "    product_choice = widgets.Dropdown(options=[(\"Active Fire\", \"VIIRS-AF-Iband-EDR\"), (\"Aerosol Detection Product\", \"VIIRS-JRR-ADP\"), (\"Aerosol Optical Depth\", \"VIIRS-JRR-AOD\"),(\"Cloud Top Temperature\",\"VIIRS-JRR-CloudHeight\")], description='Product:', style=style, layout=layout)\n",
    "\n",
    "    display(product_choice)"
   ]
  },
  {
   "cell_type": "code",
   "execution_count": null,
   "metadata": {
    "tags": []
   },
   "outputs": [],
   "source": [
    "def aws_date(satellite, product):\n",
    "    \n",
    "    global year, month, day, shour, smin, ehour, emin\n",
    "    \n",
    "    year_options = []\n",
    "    \n",
    "    aws = s3fs.S3FileSystem(anon=True)\n",
    "    years = aws.ls(f'{satellite}/{product}/', refresh=True)  \n",
    "    for y in years:\n",
    "        year_options.append(y[-4:])\n",
    "\n",
    "    # Formatting settings for drop-down menus\n",
    "    style = {'description_width':'120px'}\n",
    "    layout = widgets.Layout(width='325px')\n",
    "    \n",
    "    year = widgets.Dropdown(options=[y for y in year_options], description='Year:', style=style, layout=layout)\n",
    "    month = widgets.Dropdown(options=[('Jan', '01'), ('Feb', '02'), ('Mar', '03'), ('Apr', '04'), ('May', '05'), ('Jun', '06'), ('Jul', '07'), ('Aug', '08'), ('Sep', '09'), ('Oct', '10'), ('Nov', '11'), ('Dec', '12')], description='Month:', style=style, layout=layout)\n",
    "    day = widgets.Dropdown(options=[('01'), ('02'), ('03'), ('04'), ('05'), ('06'), ('07'), ('08'), ('09'), ('10'), ('11'), ('12'), ('13'), ('14'), ('15'), ('16'), ('17'), ('18'), ('19'), ('20'), ('21'), ('22'), ('23'), ('24'), ('25'), ('26'), ('27'), ('28'), ('29'), ('30'), ('31')], description='Day:', style=style, layout=layout)\n",
    "    shour = widgets.Dropdown(options=[('00'), ('01'), ('02'), ('03'), ('04'), ('05'), ('06'), ('07'), ('08'), ('09'), ('10'), ('11'), ('12'), ('13'), ('14'), ('15'), ('16'), ('17'), ('18'), ('19'), ('20'), ('21'), ('22'), ('23')], description='Start Hour:', style=style, layout=layout)\n",
    "    smin = widgets.Dropdown(options=[('00'), ('01'), ('02'), ('03'), ('04'), ('05'), ('06'), ('07'), ('08'), ('09'), ('10'), ('11'), ('12'), ('13'), ('14'), ('15'), ('16'), ('17'), ('18'), ('19'), ('20'), ('21'), ('22'), ('23'), ('24'), ('25'), ('26'), ('27'), ('28'), ('29'), ('30'), ('31'), ('32'), ('33'), ('34'), ('35'), ('36'), ('37'), ('38'), ('39'), ('40'), ('41'), ('42'), ('43'), ('44'), ('45'), ('46'), ('47'), ('48'), ('49'), ('50'), ('51'), ('52'), ('53'), ('54'), ('55'), ('56'), ('57'), ('58'), ('59')], description='Start Minutes:', style=style, layout=layout)\n",
    "    ehour = widgets.Dropdown(options=[('00'), ('01'), ('02'), ('03'), ('04'), ('05'), ('06'), ('07'), ('08'), ('09'), ('10'), ('11'), ('12'), ('13'), ('14'), ('15'), ('16'), ('17'), ('18'), ('19'), ('20'), ('21'), ('22'), ('23')], description='End Hour:', style=style, layout=layout)\n",
    "    emin = widgets.Dropdown(options=[('00'), ('01'), ('02'), ('03'), ('04'), ('05'), ('06'), ('07'), ('08'), ('09'), ('10'), ('11'), ('12'), ('13'), ('14'), ('15'), ('16'), ('17'), ('18'), ('19'), ('20'), ('21'), ('22'), ('23'), ('24'), ('25'), ('26'), ('27'), ('28'), ('29'), ('30'), ('31'), ('32'), ('33'), ('34'), ('35'), ('36'), ('37'), ('38'), ('39'), ('40'), ('41'), ('42'), ('43'), ('44'), ('45'), ('46'), ('47'), ('48'), ('49'), ('50'), ('51'), ('52'), ('53'), ('54'), ('55'), ('56'), ('57'), ('58'), ('59')], description='End Minutes:', style=style, layout=layout)\n",
    "\n",
    "    start_time = widgets.HBox([shour, smin])\n",
    "    end_time = widgets.HBox([ehour, emin])\n",
    "\n",
    "    print(\"Select your chosen date and time, chosen from the orbit track, then run the next cell.\")\n",
    "    \n",
    "    display(year, month, day)\n",
    "    display(start_time, end_time)"
   ]
  },
  {
   "cell_type": "code",
   "execution_count": null,
   "metadata": {
    "tags": []
   },
   "outputs": [],
   "source": [
    "def aws_data(satellite, product, year, month, day, shour, ehour, smin, emin):\n",
    "\n",
    "    global fnames\n",
    "        \n",
    "    aws = s3fs.S3FileSystem(anon=True)\n",
    "    \n",
    "    data_files = aws.ls(f'{satellite}/{product}/{year}/{month}/{day}/', refresh=True)  \n",
    "\n",
    "    # Extracting files for chosen date/time\n",
    "    fnames = []\n",
    "    for file in data_files:\n",
    "        file_start = file.split('_')[-3][9:13]\n",
    "        file_end = file.split('_')[-2][9:13]        \n",
    "        if ((int(file_start[0:4]) >= int((str(shour) + str(smin)))) and (int(file_end[0:4]) <= int((str(ehour) + str(emin)))) and (str(file.split('_')[-2][7:9]) == day)):\n",
    "            fnames.append(file)\n",
    "            \n",
    "    print(f\"This search produced {len(fnames)} files.\")"
   ]
  },
  {
   "cell_type": "code",
   "execution_count": null,
   "metadata": {
    "tags": []
   },
   "outputs": [],
   "source": [
    "def aws_plot(satellite, product):\n",
    "    \n",
    "    if satellite == \"noaa-nesdis-snpp-pds\":\n",
    "        satellite_name = \"SNPP\"\n",
    "    elif satellite == \"noaa-nesdis-n20-pds\":\n",
    "        satellite_name = \"NOAA-20\"\n",
    "    elif satellite == \"noaa-nesdis-n21-pds\":\n",
    "        satellite_name = \"NOAA-21\"\n",
    "    \n",
    "    fig = plt.figure(figsize=(12, 7))\n",
    "    ax = plt.axes(projection=ccrs.PlateCarree()) \n",
    "    ax.add_feature(cf.OCEAN)\n",
    "    ax.add_feature(ccrs.cartopy.feature.STATES, linewidth=0.25)\n",
    "    ax.coastlines(resolution='50m', color='black', linewidth=0.25)\n",
    "    \n",
    "    gl = ax.gridlines(crs=ccrs.PlateCarree(), draw_labels=True,linewidth=1, color='black', alpha=0.05, linestyle='-')\n",
    "    gl.top_labels = False\n",
    "    gl.left_labels = True\n",
    "    gl.right_labels = False\n",
    "    gl.xlines = True\n",
    "    gl.ylines = True\n",
    "    \n",
    "    # Active Fires!\n",
    "    if product == \"VIIRS-AF-Iband-EDR\":\n",
    "        for f in range(0, len(fnames)):\n",
    "            fname = (fnames[f])[len(satellite_choice.value) + 1:]\n",
    "            s3url = (f's3://{satellite}/{fname}')\n",
    "            s3f = fsspec.open(s3url, mode='rb', anon=True, default_fill_cache=False)    \n",
    "            h5f = h5py.File(s3f.open(), mode='r')\n",
    "            dset = h5f[\"Fire Pixels\"]\n",
    "            title = \"Fire Radiative Power\"\n",
    "            x = dset[\"FP_longitude\"]\n",
    "            y = dset[\"FP_latitude\"]\n",
    "            product_var = dset[\"FP_power\"]\n",
    "            h5f.close()\n",
    "            \n",
    "            scatter = ax.scatter(x, y, s=4, c = product_var, vmin = 0, vmax = 150)\n",
    "        \n",
    "        plt.colorbar(scatter, shrink=0.5, label = \"Megawatts\")\n",
    "        plt.title(f\"{satellite_name} {title}\", loc='left', fontweight='bold')\n",
    "        plt.title(f'{year.value}-{month.value}-{day.value} at {shour.value} UTC', loc='right')\n",
    "        plt.show()\n",
    "        plt.close(\"all\")\n",
    "        plt.close(fig)\n",
    "    \n",
    "    # Aerosol Optical Depth!\n",
    "    elif product == \"VIIRS-JRR-AOD\":\n",
    "\n",
    "        for f in range(0, len(fnames)):\n",
    "            fname = (fnames[f])[len(satellite) + 1:]\n",
    "            resp = requests.get(f'https://{satellite_choice.value}.s3.amazonaws.com/{fname}')\n",
    "            nc = netCDF4.Dataset(fname, memory = resp.content)\n",
    "            dataset = xarray.open_dataset(xarray.backends.NetCDF4DataStore(nc))\n",
    "            dataset.load()\n",
    "\n",
    "            dat = dataset.metpy.parse_cf('AOD550')\n",
    "            plotting_var = dataset['AOD550'].data\n",
    "            lon = dat.Longitude\n",
    "            lat = dat.Latitude\n",
    "            dataset.close()\n",
    "            \n",
    "            aerosols = ax.contourf(lon, lat, plotting_var, vmin=-0.05, vmax=5, transform=ccrs.PlateCarree())\n",
    "        \n",
    "        title = \"Aerosol Optical Depth at 550nm\"\n",
    "        plt.colorbar(aerosols, shrink=0.5)\n",
    "        scan_start = datetime.strptime(dataset.time_coverage_start, '%Y-%m-%dT%H:%M:%SZ')\n",
    "\n",
    "        plt.title(f\"{satellite_name} {title}\", loc='left', fontweight='bold')\n",
    "        plt.title('{}'.format(scan_start.strftime('%d %B %Y at %H UTC')), loc='right')\n",
    "        plt.show()\n",
    "        plt.close(\"all\")\n",
    "        plt.close(fig)\n",
    "        \n",
    "    # Aerosol Detection!\n",
    "    elif product == \"VIIRS-JRR-ADP\":\n",
    "\n",
    "        for f in range(0, len(fnames)):\n",
    "            fname = (fnames[f])[len(satellite) + 1:]\n",
    "            resp = requests.get(f'https://{satellite_choice.value}.s3.amazonaws.com/{fname}')\n",
    "            nc = netCDF4.Dataset(fname, memory = resp.content)\n",
    "            dataset = xarray.open_dataset(xarray.backends.NetCDF4DataStore(nc))\n",
    "            dataset.load()\n",
    "\n",
    "            dat = dataset.metpy.parse_cf('Ash')\n",
    "            \n",
    "            ash = dataset['Ash'].data\n",
    "            ash[ash != 1] = np.nan\n",
    "            \n",
    "            dust = dataset['Dust'].data\n",
    "            dust[dust != 1] = np.nan\n",
    "            \n",
    "            cloud = dataset['Cloud'].data\n",
    "            cloud[cloud != 1] = np.nan\n",
    "            \n",
    "            smoke = dataset['Smoke'].data\n",
    "            smoke[smoke != 1] = np.nan\n",
    "            \n",
    "            lon = dat.Longitude\n",
    "            lat = dat.Latitude\n",
    "\n",
    "            dataset.close()\n",
    "            \n",
    "            ash_plot = plt.contourf(lon, lat, ash, transform=ccrs.PlateCarree(), cmap = \"Greens_r\")\n",
    "            dust_plot = plt.contourf(lon, lat, dust, transform=ccrs.PlateCarree(), cmap = \"Blues_r\")\n",
    "            cloud_plot = plt.contourf(lon, lat, cloud, transform=ccrs.PlateCarree(), cmap = \"Greys\")\n",
    "            smoke_plot = plt.contourf(lon, lat, smoke, transform=ccrs.PlateCarree(), cmap = \"Reds_r\")\n",
    "            \n",
    "        title = \"Aerosol Detection Product\"\n",
    "        scan_start = datetime.strptime(dataset.time_coverage_start, '%Y-%m-%dT%H:%M:%SZ')\n",
    "\n",
    "        h1,_ = ash_plot.legend_elements()\n",
    "        h2,_ = dust_plot.legend_elements()\n",
    "        h3,_ = cloud_plot.legend_elements()\n",
    "        h4,_ = smoke_plot.legend_elements()\n",
    "        ax.legend([h1[0], h2[0], h3[0], h4[0]], ['Ash', 'Dust', 'Cloud', 'Smoke'], loc = 'lower right')\n",
    "\n",
    "        plt.title(f\"{satellite_name} {title}\", loc='left', fontweight='bold')\n",
    "        plt.title('{}'.format(scan_start.strftime('%d %B %Y at %H UTC')), loc='right')\n",
    "        plt.show()\n",
    "        plt.close('all')\n",
    "        plt.close(fig)\n",
    "    \n",
    "    # Cloud Top Temperature! \n",
    "    elif product == \"VIIRS-JRR-CloudHeight\": \n",
    "        for f in range(0, len(fnames)):\n",
    "            fname = (fnames[f])[len(satellite) + 1:]\n",
    "            resp = requests.get(f'https://{satellite_choice.value}.s3.amazonaws.com/{fname}')\n",
    "            nc = netCDF4.Dataset(fname, memory = resp.content)\n",
    "            dataset = xarray.open_dataset(xarray.backends.NetCDF4DataStore(nc))\n",
    "            dataset.load()\n",
    "            \n",
    "            dat = dataset.metpy.parse_cf('CldTopTemp')\n",
    "            plotting_var = dataset['CldTopTemp'].data - 273.15\n",
    "            lon = dat.Longitude\n",
    "            lat = dat.Latitude\n",
    "            nc.close()\n",
    "            \n",
    "            temps = ax.contourf(lon, lat, plotting_var, vmin = -80, vmax = 40, transform=ccrs.PlateCarree())\n",
    "\n",
    "        title = \"Cloud Top Temperature\"\n",
    "        plt.colorbar(temps, shrink=0.5)\n",
    "        scan_start = datetime.strptime(dataset.time_coverage_start, '%Y-%m-%dT%H:%M:%SZ')\n",
    "\n",
    "        plt.title(f\"{satellite_name} {title}\", loc='left', fontweight='bold')\n",
    "        plt.title('{}'.format(scan_start.strftime('%d %B %Y at %H UTC')), loc='right')\n",
    "        plt.show()\n",
    "        plt.close(\"all\")\n",
    "        plt.close(fig)"
   ]
  },
  {
   "cell_type": "markdown",
   "metadata": {
    "tags": []
   },
   "source": [
    "# Choosing your variables"
   ]
  },
  {
   "cell_type": "code",
   "execution_count": null,
   "metadata": {
    "tags": []
   },
   "outputs": [],
   "source": [
    "aws_satellite()"
   ]
  },
  {
   "cell_type": "code",
   "execution_count": null,
   "metadata": {
    "tags": []
   },
   "outputs": [],
   "source": [
    "aws_product(satellite_choice.value)"
   ]
  },
  {
   "cell_type": "markdown",
   "metadata": {},
   "source": [
    "### Find orbit track: \n",
    "The AWS cloud contains VIIRS Level 2 data, which is visualized in swaths, or the image the satellite takes as it passes over a location. As a result, it is necessary to determine the time the satellite crossed over a location in order to download and plot the swath data of interest. If this step is skipped, you might have to look through thousands of swath files from a single day in order to get the image you're interested in.\n",
    "\n",
    "#### This link plots the crossover times of each satellite: https://www.ssec.wisc.edu/datacenter/polar_orbit_tracks/\n",
    "1. Open the above link, which takes you to the Space Science and Engineering Center webpage hosted by the University of Wisconsin-Madison.\n",
    "2. Scroll down to \"Orbit Track Links\", and select your chosen satellite (either NPP or NOAA20) from the options under \"All Satellites.\"\n",
    "3. At the top of the following page, click the \"___ Archive\" button, where the blank space has the name of your chosen satellite.\n",
    "4. Follow the links to select your date (year_month_day) of interest. Open the directory containing your day.\n",
    "5. Select the geographic region of interest.\n",
    "6. Each white line on the displayed figure represents the center of your satellite's orbit. Locate your region of interest, then follow the white line north and south to get the time range of your satellite's crossover. \n",
    "7. In the next cell, select your chosen date, then enter the start and end time of your satellite crossover."
   ]
  },
  {
   "cell_type": "code",
   "execution_count": null,
   "metadata": {
    "tags": []
   },
   "outputs": [],
   "source": [
    "aws_date(satellite_choice.value, product_choice.value)"
   ]
  },
  {
   "cell_type": "code",
   "execution_count": null,
   "metadata": {
    "tags": []
   },
   "outputs": [],
   "source": [
    "aws_data(satellite_choice.value, product_choice.value, year.value, month.value, day.value, shour.value, ehour.value, smin.value, emin.value)"
   ]
  },
  {
   "cell_type": "code",
   "execution_count": null,
   "metadata": {
    "tags": []
   },
   "outputs": [],
   "source": [
    "aws_plot(satellite_choice.value, product_choice.value)"
   ]
  },
  {
   "cell_type": "code",
   "execution_count": null,
   "metadata": {
    "tags": []
   },
   "outputs": [],
   "source": [
    "# Your analysis here!"
   ]
  },
  {
   "cell_type": "markdown",
   "metadata": {},
   "source": [
    "# Resources"
   ]
  },
  {
   "cell_type": "markdown",
   "metadata": {},
   "source": [
    "**JPSS Product Documentation:**\n",
    "- https://www.star.nesdis.noaa.gov/jpss/JPSS_products.php (Product description)\n",
    "- https://www.ospo.noaa.gov/Products/Suites/jpss-rr/count_JRR_product.html?product=aerosol (JRR product visualization)\n",
    "- https://www.nesdis.noaa.gov/our-satellites/currently-flying/joint-polar-satellite-system/jpss-satellite-and-instruments (About the satellites)\n",
    "- https://rammb2.cira.colostate.edu/training/visit/jpss-imagery-for-users/ (Data visualization)\n",
    "- https://weather.ndc.nasa.gov/sport/jpsspg/viirs.html (Real-time product visualization)"
   ]
  },
  {
   "cell_type": "markdown",
   "metadata": {},
   "source": [
    "**Coding Sources:**\n",
    "- https://github.com/jpss-nodd/python-scripts/tree/main\n",
    "- https://medium.com/the-barometer/plotting-noaa-dnb-nighttime-data-using-python-h5py-cartopy-daefef240b0f\n",
    "- https://github.com/modern-tools-workshop/AMS-python-workshop-2023\n",
    "- https://www.meted.ucar.edu/education_training/course/54\n",
    "- https://www.star.nesdis.noaa.gov/atmospheric-composition-training/python_abi_level2_download.php"
   ]
  },
  {
   "cell_type": "markdown",
   "metadata": {},
   "source": [
    "**CSP Access:**    \n",
    "AWS: https://registry.opendata.aws/noaa-jpss/    \n",
    "Google: coming soon...    \n",
    "Azure: coming soon..."
   ]
  }
 ],
 "metadata": {
  "kernelspec": {
   "display_name": "Python 3 (ipykernel)",
   "language": "python",
   "name": "python3"
  },
  "language_info": {
   "codemirror_mode": {
    "name": "ipython",
    "version": 3
   },
   "file_extension": ".py",
   "mimetype": "text/x-python",
   "name": "python",
   "nbconvert_exporter": "python",
   "pygments_lexer": "ipython3",
   "version": "3.11.4"
  }
 },
 "nbformat": 4,
 "nbformat_minor": 4
}
