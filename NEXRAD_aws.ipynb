{
 "cells": [
  {
   "cell_type": "markdown",
   "id": "9ae050ff-ed55-4ca0-819a-d25733a76267",
   "metadata": {},
   "source": [
    "## Welcome to the NEXRAD notebook!\n",
    "\n",
    "#### **Intent:** This notebook will find and visualize NEXRAD data for a requested radar, date, time, and product. \n",
    "#### **Audience:** Anyone with at least 4GB of memory on their computer or computing environment. No programming experience required to go through this notebook, but it will help you understand where this data is coming from.     \n",
    "#### **Outcome:** A plot and animation of NEXRAD imagery for a selected radar, date, time range, and product.          \n",
    "\n",
    "The Next Generation Weather Radar (NEXRAD) system is a network of 160 high-resolution S-band Doppler weather radars jointly operated by the National Weather Service (NWS), the Federal Aviation Administration (FAA), and the U.S. Air Force. The NEXRAD system detects precipitation and wind, and its data can be processed to map precipitation patterns and movement. NCEI provides access to archived NEXRAD Level-II data and Level-III products.\n",
    "\n",
    "This notebook will use NEXRAD data to visualize radar imagery from one specific, user-selected radar, and display the results from the date/time range in an animation. "
   ]
  },
  {
   "cell_type": "markdown",
   "id": "77342a9e-cfe6-4285-8e7c-82290d322451",
   "metadata": {},
   "source": [
    "## Importing"
   ]
  },
  {
   "cell_type": "code",
   "execution_count": null,
   "id": "c0b0d2e6-1b32-42df-bbfd-45ef86c566d1",
   "metadata": {
    "tags": []
   },
   "outputs": [],
   "source": [
    "import ipywidgets as widgets\n",
    "import requests\n",
    "import netCDF4\n",
    "import s3fs\n",
    "import numpy as np\n",
    "from matplotlib import animation\n",
    "import cartopy.crs as ccrs\n",
    "from cartopy import feature as cf\n",
    "import xarray\n",
    "from datetime import datetime\n",
    "import matplotlib.pyplot as plt\n",
    "import tempfile\n",
    "import pytz\n",
    "from datetime import datetime\n",
    "import pyart\n",
    "import pandas as pd\n",
    "import nexradaws\n",
    "\n",
    "conn = nexradaws.NexradAwsInterface()\n",
    "templocation = tempfile.mkdtemp()"
   ]
  },
  {
   "cell_type": "markdown",
   "id": "583ed878-8d18-4070-8945-80905cedb9df",
   "metadata": {},
   "source": [
    "## Definitions"
   ]
  },
  {
   "cell_type": "code",
   "execution_count": null,
   "id": "e2accb7c-d7c3-4dce-9316-a0dbebea4bbc",
   "metadata": {
    "tags": []
   },
   "outputs": [],
   "source": [
    "def aws_date():\n",
    "    \n",
    "    global year, month, day, shour, smin, ehour, emin\n",
    "    \n",
    "    aws = s3fs.S3FileSystem(anon=True)\n",
    "    years = aws.ls(f'noaa-nexrad-level2/', refresh=True)  \n",
    "\n",
    "    year_options = []\n",
    "\n",
    "    for y in years:\n",
    "        year_options.append(y[-4:])\n",
    "\n",
    "    # Formatting settings for drop-down menus\n",
    "    style = {'description_width':'120px'}\n",
    "    layout = widgets.Layout(width='325px')\n",
    "    \n",
    "    year = widgets.Dropdown(options=[y for y in year_options], description='Year:', style=style, layout=layout)\n",
    "    month = widgets.Dropdown(options=[('Jan', '01'), ('Feb', '02'), ('Mar', '03'), ('Apr', '04'), ('May', '05'), ('Jun', '06'), ('Jul', '07'), ('Aug', '08'), ('Sep', '09'), ('Oct', '10'), ('Nov', '11'), ('Dec', '12')], description='Month:', style=style, layout=layout)\n",
    "    day = widgets.Dropdown(options=[('01'), ('02'), ('03'), ('04'), ('05'), ('06'), ('07'), ('08'), ('09'), ('10'), ('11'), ('12'), ('13'), ('14'), ('15'), ('16'), ('17'), ('18'), ('19'), ('20'), ('21'), ('22'), ('23'), ('24'), ('25'), ('26'), ('27'), ('28'), ('29'), ('30'), ('31')], description='Day:', style=style, layout=layout)\n",
    "    shour = widgets.Dropdown(options=[('00'), ('01'), ('02'), ('03'), ('04'), ('05'), ('06'), ('07'), ('08'), ('09'), ('10'), ('11'), ('12'), ('13'), ('14'), ('15'), ('16'), ('17'), ('18'), ('19'), ('20'), ('21'), ('22'), ('23')], description='Start Hour:', style=style, layout=layout)\n",
    "    smin = widgets.Dropdown(options=[('00'), ('01'), ('02'), ('03'), ('04'), ('05'), ('06'), ('07'), ('08'), ('09'), ('10'), ('11'), ('12'), ('13'), ('14'), ('15'), ('16'), ('17'), ('18'), ('19'), ('20'), ('21'), ('22'), ('23'), ('24'), ('25'), ('26'), ('27'), ('28'), ('29'), ('30'), ('31'), ('32'), ('33'), ('34'), ('35'), ('36'), ('37'), ('38'), ('39'), ('40'), ('41'), ('42'), ('43'), ('44'), ('45'), ('46'), ('47'), ('48'), ('49'), ('50'), ('51'), ('52'), ('53'), ('54'), ('55'), ('56'), ('57'), ('58'), ('59')], description='Start Minutes:', style=style, layout=layout)\n",
    "    ehour = widgets.Dropdown(options=[('00'), ('01'), ('02'), ('03'), ('04'), ('05'), ('06'), ('07'), ('08'), ('09'), ('10'), ('11'), ('12'), ('13'), ('14'), ('15'), ('16'), ('17'), ('18'), ('19'), ('20'), ('21'), ('22'), ('23')], description='End Hour:', style=style, layout=layout)\n",
    "    emin = widgets.Dropdown(options=[('00'), ('01'), ('02'), ('03'), ('04'), ('05'), ('06'), ('07'), ('08'), ('09'), ('10'), ('11'), ('12'), ('13'), ('14'), ('15'), ('16'), ('17'), ('18'), ('19'), ('20'), ('21'), ('22'), ('23'), ('24'), ('25'), ('26'), ('27'), ('28'), ('29'), ('30'), ('31'), ('32'), ('33'), ('34'), ('35'), ('36'), ('37'), ('38'), ('39'), ('40'), ('41'), ('42'), ('43'), ('44'), ('45'), ('46'), ('47'), ('48'), ('49'), ('50'), ('51'), ('52'), ('53'), ('54'), ('55'), ('56'), ('57'), ('58'), ('59')], description='End Minutes:', style=style, layout=layout)\n",
    "\n",
    "    start_time = widgets.HBox([shour, smin])\n",
    "    end_time = widgets.HBox([ehour, emin])\n",
    "\n",
    "    print(\"Select your chosen date, then run the next cell.\")\n",
    "    display(year, month, day)\n",
    "    display(start_time, end_time)"
   ]
  },
  {
   "cell_type": "code",
   "execution_count": null,
   "id": "a0f73055-9c3f-481f-bc0c-c34d1025ceb8",
   "metadata": {
    "tags": []
   },
   "outputs": [],
   "source": [
    "def aws_radar(year, month, day):\n",
    "    \n",
    "    global radar, product\n",
    "    \n",
    "    aws = s3fs.S3FileSystem(anon=True)\n",
    "    radars = aws.ls(f'noaa-nexrad-level2/{year}/{month}/{day}/', refresh=True)\n",
    "    \n",
    "    radar_options = []\n",
    "    for r in radars:\n",
    "        radar_options.append(r[-4:])\n",
    "        \n",
    "    # Formatting settings for drop-down menus\n",
    "    style = {'description_width':'120px'}\n",
    "    layout = widgets.Layout(width='325px')        \n",
    "    radar = widgets.Dropdown(options=[r for r in radar_options], description='Radar:', style=style, layout=layout)\n",
    "    product = widgets.Dropdown(options=[(\"Reflectivity\", \"reflectivity\"), (\"Velocity\", \"velocity\")], description='Radar Product:', style=style, layout=layout)\n",
    "    display(radar, product)"
   ]
  },
  {
   "cell_type": "code",
   "execution_count": null,
   "id": "02fc74a8-85d1-44c9-867a-bda1cee28d00",
   "metadata": {
    "tags": []
   },
   "outputs": [],
   "source": [
    "def aws_data(year, month, day, shour, smin, ehour, emin, radar):\n",
    "    \n",
    "    global results \n",
    "    global scans\n",
    "    \n",
    "    start = pd.Timestamp(year,month,day,shour,smin).tz_localize(tz='UTC')\n",
    "    end = pd.Timestamp(year,month,day,ehour,emin).tz_localize(tz='UTC')\n",
    "\n",
    "    scans = conn.get_avail_scans_in_range(start, end, radar)\n",
    "    print(\"There are {} scans available between {} and {}\\n\".format(len(scans), start, end))\n",
    "    \n",
    "    print(\"Downloading the first 4 scans...\")\n",
    "    results = conn.download(scans[0:4], templocation)"
   ]
  },
  {
   "cell_type": "code",
   "execution_count": null,
   "id": "cb7034da-a9cd-4680-a513-1f9ba49a46f9",
   "metadata": {
    "tags": []
   },
   "outputs": [],
   "source": [
    "def aws_plot(product):\n",
    "    if product == \"reflelctivity\":\n",
    "        product_num = 0\n",
    "    elif product == \"velocity\":\n",
    "        product_num = 1\n",
    "    \n",
    "    fig = plt.figure(figsize=(16,12))\n",
    "    \n",
    "    for i,scan in enumerate(results.iter_success(),start=1):\n",
    "        ax = fig.add_subplot(2,2,i)\n",
    "        openradar = scan.open_pyart()\n",
    "        display = pyart.graph.RadarDisplay(openradar)\n",
    "        display.plot(product,product_num,ax=ax,title=\"{} {}\".format(scan.radar_id,scan.scan_time))\n",
    "        display.set_limits((-150, 150), (-150, 150), ax=ax)"
   ]
  },
  {
   "cell_type": "code",
   "execution_count": null,
   "id": "a31de515-f560-4c3a-9a31-4a861d27d19f",
   "metadata": {
    "tags": []
   },
   "outputs": [],
   "source": [
    "def aws_animate():\n",
    "    if product == \"reflelctivity\":\n",
    "        product_num = 0\n",
    "    elif product == \"velocity\":\n",
    "        product_num = 1\n",
    "        \n",
    "    fig, ax = plt.subplots()\n",
    "    def animate(i):\n",
    "        for scan_count in enumerate(results.iter_success()):\n",
    "            if scan_count[0] == i:\n",
    "                scan = scan_count[1]\n",
    "                fig.clear()\n",
    "                ax = fig.add_subplot()\n",
    "                radar = scan.open_pyart()\n",
    "                display = pyart.graph.RadarDisplay(radar)\n",
    "                display.plot(product,product_num,ax=ax,title=\"{} {}\".format(scan.radar_id,scan.scan_time))\n",
    "                display.set_limits((-150, 150), (-150, 150), ax=ax)\n",
    "\n",
    "    ani = animation.FuncAnimation(fig, animate, repeat=True, frames=len(scans), interval=200)\n",
    "    ani.save('radar_animation.gif', writer='pillow')\n",
    "    plt.close(\"all\")\n",
    "    plt.close(fig)"
   ]
  },
  {
   "cell_type": "markdown",
   "id": "75b9ee1f-2c6c-4ce0-a4a5-a68d1d284fd0",
   "metadata": {},
   "source": [
    "## Variable Selection & Visualization"
   ]
  },
  {
   "cell_type": "code",
   "execution_count": null,
   "id": "c7045e64-6824-4dc0-a6d2-0b03a73994a4",
   "metadata": {
    "tags": []
   },
   "outputs": [],
   "source": [
    "aws_date()"
   ]
  },
  {
   "cell_type": "code",
   "execution_count": null,
   "id": "8e4d3138-ec25-4f43-95ad-a965b9d27669",
   "metadata": {
    "tags": []
   },
   "outputs": [],
   "source": [
    "aws_radar(year.value, month.value, day.value)"
   ]
  },
  {
   "cell_type": "code",
   "execution_count": null,
   "id": "797128d2-7453-4157-8300-de375e9b4a7a",
   "metadata": {
    "tags": []
   },
   "outputs": [],
   "source": [
    "aws_data(int(year.value), int(month.value), int(day.value), int(shour.value), int(smin.value), int(ehour.value), int(emin.value), radar.value)"
   ]
  },
  {
   "cell_type": "code",
   "execution_count": null,
   "id": "1bbdb5a1-d296-44b8-940d-43fab2db97ab",
   "metadata": {
    "tags": []
   },
   "outputs": [],
   "source": [
    "aws_plot(product.value)"
   ]
  },
  {
   "cell_type": "code",
   "execution_count": null,
   "id": "bac612a4-84e6-42e6-a6eb-05fea4a4093c",
   "metadata": {
    "tags": []
   },
   "outputs": [],
   "source": [
    "aws_animate()"
   ]
  },
  {
   "cell_type": "markdown",
   "id": "50f41803-f6c9-410d-89d4-848cc5030db2",
   "metadata": {},
   "source": [
    "**Product Documentation:** \n",
    "- https://www.ncei.noaa.gov/products/radar/next-generation-weather-radar (NCEI product page)\n",
    "- https://www.weather.gov/nl2/NEXRADView (Radar view)\n",
    "- https://www.roc.noaa.gov/WSR88D/ (Radar operations center)"
   ]
  },
  {
   "cell_type": "markdown",
   "id": "0df0bf69-e777-4d90-b7b9-b458df55d0c3",
   "metadata": {},
   "source": [
    "**Coding References:**    \n",
    "- https://nexradaws.readthedocs.io/en/latest/Tutorial.html     \n",
    "- https://github.com/russ-schumacher/ats641_spring2022/blob/master/example_notebooks/pyart_nexrad_maps_reports.ipynb\n",
    "- https://arm-doe.github.io/pyart/examples/io/plot_nexrad_data_aws.html"
   ]
  },
  {
   "cell_type": "markdown",
   "id": "cef4df94-03fa-4a05-aec6-319b3fe9729a",
   "metadata": {},
   "source": [
    "**CSP Access:**     \n",
    "\n",
    "- NEXRAD Level 2 Real-Time and Archive Data     \n",
    "    - AWS: https://registry.opendata.aws/noaa-nexrad/\n",
    "    - Google: https://console.cloud.google.com/marketplace/product/noaa-public/nexrad-l2\n",
    "\n",
    "- NEXRAD Level 3 Real-Time and Archive Data    \n",
    "    - Google: https://console.cloud.google.com/marketplace/details/noaa-public/nexrad-l3"
   ]
  },
  {
   "cell_type": "markdown",
   "id": "235c6818-1b71-4acb-b4f6-0b73d949cc0c",
   "metadata": {},
   "source": [
    "The unique component of this Jupyter notebook is that you are not requried to download any datasets -- all data will be pulled directly from the AWS cloud. You can learn more about NOAA's efforts to move more data to the cloud at this site: https://www.noaa.gov/information-technology/open-data-dissemination. As we continute to make more data widely accessible on the cloud, we'll also create more Jupyter notebooks like this one, so anyone can visualize weather and climate data without any cost or restriction. "
   ]
  }
 ],
 "metadata": {
  "kernelspec": {
   "display_name": "Python 3 (ipykernel)",
   "language": "python",
   "name": "python3"
  },
  "language_info": {
   "codemirror_mode": {
    "name": "ipython",
    "version": 3
   },
   "file_extension": ".py",
   "mimetype": "text/x-python",
   "name": "python",
   "nbconvert_exporter": "python",
   "pygments_lexer": "ipython3",
   "version": "3.11.4"
  }
 },
 "nbformat": 4,
 "nbformat_minor": 5
}
