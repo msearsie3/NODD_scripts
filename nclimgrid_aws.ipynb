{
 "cells": [
  {
   "cell_type": "markdown",
   "metadata": {},
   "source": [
    "## Welcome to the NClimGrid notebook!\n",
    "\n",
    "#### **Intent:** This notebook will find and visualize one day of NClimGrid data for CONUS, then compare it to historical averages.    \n",
    "#### **Audience:** Anyone with at least 4GB of memory on their computer or computing environment. No programming experience required to go through this notebook, but it will help you understand where this data is coming from.     \n",
    "#### **Outcome:** Plots depicting NClimGrid data from the selected day, historical record, and a comparison of the two.        \n",
    "\n",
    "The NOAA Monthly U.S. Climate Gridded Dataset (NClimGrid) consists of four climate variables derived from the GHCN-D dataset: maximum temperature, minimum temperature, average temperature and precipitation. Each file provides monthly values in a 5x5 lat/lon grid for the Continental United States. Data is available from 1895 to the present (NCEI).\n",
    "\n",
    "This notebook will use NClimGrid data to plot climate variables across the U.S. for a selected day. Then, it will compare those variables to the climate average."
   ]
  },
  {
   "cell_type": "markdown",
   "metadata": {},
   "source": [
    "### Step 1: Import Python modules"
   ]
  },
  {
   "cell_type": "code",
   "execution_count": null,
   "metadata": {
    "tags": []
   },
   "outputs": [],
   "source": [
    "import s3fs\n",
    "from IPython.display import display\n",
    "import ipywidgets as widgets\n",
    "import numpy as np\n",
    "import netCDF4\n",
    "import requests\n",
    "import matplotlib.pyplot as plt\n",
    "import cartopy.crs as ccrs\n",
    "from cartopy import feature as cf\n",
    "from tqdm.notebook import tqdm\n",
    "from time import sleep\n",
    "\n",
    "import warnings\n",
    "warnings.filterwarnings('ignore')"
   ]
  },
  {
   "cell_type": "markdown",
   "metadata": {},
   "source": [
    "### Step 2: Review the data available on the AWS cloud, then select the date for your analysis.\n",
    "Goal: select the date to analyze and retrieve the data. "
   ]
  },
  {
   "cell_type": "code",
   "execution_count": null,
   "metadata": {
    "tags": []
   },
   "outputs": [],
   "source": [
    "# Formatting settings for drop-down menus\n",
    "style = {'description_width':'120px'}\n",
    "layout = widgets.Layout(width='325px')\n",
    "\n",
    "# Create drop-down menus using widgets, pulling aws data so I don't have to hard code anything\n",
    "aws = s3fs.S3FileSystem(anon=True)\n",
    "dirs = aws.ls('noaa-nclimgrid-daily-pds/v1-0-0/grids/', refresh=True)  \n",
    "    \n",
    "# Create list of subsetted file names that fall within specified time period(s)\n",
    "data = []\n",
    "years = []\n",
    "\n",
    "for file in dirs:\n",
    "    year = file[38:]\n",
    "    years.append(year)\n",
    "\n",
    "month_options = widgets.Dropdown(options=[('Jan', '01'), ('Feb', '02'), ('Mar', '03'), ('Apr', '04'), ('May', '05'), ('Jun', '06'), ('Jul', '07'), ('Aug', '08'), ('Sep', '09'), ('Oct', '10'), ('Nov', '11'), ('Dec', '12')], description='Month:', style=style, layout=layout)\n",
    "day_options = widgets.Dropdown(options=[('01'), ('02'), ('03'), ('04'), ('05'), ('06'), ('07'), ('08'), ('09'), ('10'), ('11'), ('12'), ('13'), ('14'), ('15'), ('16'), ('17'), ('18'), ('19'), ('20'), ('21'), ('22'), ('23'), ('24'), ('25'), ('26'), ('27'), ('28'), ('29'), ('30'), ('31')], description='Day:', style=style, layout=layout)\n",
    "year_options = widgets.Dropdown(options= [s for s in years], description='Year:', style=style, layout=layout)\n",
    "\n",
    "# Display drop-down menus\n",
    "print('Select your desired month/day/year, then run the next block. Do NOT re-run this block, or your values will reset!')\n",
    "display(month_options)\n",
    "display(day_options)\n",
    "display(year_options)"
   ]
  },
  {
   "cell_type": "markdown",
   "metadata": {},
   "source": [
    "### Step 3: Plot the data from your chosen date. \n",
    "Goal: visualize all four variables for your chosen day within the entire continental U.S."
   ]
  },
  {
   "cell_type": "code",
   "execution_count": null,
   "metadata": {
    "scrolled": true,
    "tags": []
   },
   "outputs": [],
   "source": [
    "#getting variables from AWS\n",
    "resp = requests.get(f'https://noaa-nclimgrid-daily-pds.s3.amazonaws.com/v1-0-0/grids/{year_options.value}/ncdd-{year_options.value}{month_options.value}-grd-scaled.nc')\n",
    "file_name = f'ncdd-{year_options.value}{month_options.value}-grd-scaled.nc'\n",
    "nc = netCDF4.Dataset(file_name, memory = resp.content)\n",
    "\n",
    "#extracting variables from netcdf file\n",
    "tmax = nc.variables[\"tmax\"][:] \n",
    "tmax_units = nc.variables[\"tmax\"].units \n",
    "\n",
    "tmin = nc.variables[\"tmin\"][:] \n",
    "tmin_units = nc.variables[\"tmin\"].units \n",
    "\n",
    "prcp = nc.variables[\"prcp\"][:] \n",
    "prcp_units = nc.variables[\"prcp\"].units \n",
    "\n",
    "tavg  = nc.variables[\"tavg\"][:] \n",
    "tavg_units  = nc.variables[\"tavg\"].units\n",
    "        \n",
    "lats = nc.variables['lat'][:]\n",
    "lons = nc.variables['lon'][:]\n",
    "\n",
    "nc.close()\n",
    "\n",
    "day_value = int(day_options.value)-1\n",
    "\n",
    "#plotting\n",
    "fig, axs = plt.subplots(nrows=2,ncols=2, subplot_kw={'projection': ccrs.PlateCarree()}, figsize=(16,9))\n",
    "\n",
    "pc1 = axs[0,0].pcolormesh(lons, lats, tmax[day_value], cmap='jet', vmin=-30, vmax=50)\n",
    "plt.colorbar(pc1, ax=axs[0,0],fraction=0.026, pad=0.04)\n",
    "axs[0,0].set_title(f\"Maximum temperature on {month_options.value}/{day_options.value}/{year_options.value}\")\n",
    "\n",
    "pc2 = axs[0,1].pcolormesh(lons, lats, tmin[day_value], cmap='jet', vmin=-30, vmax=50)\n",
    "plt.colorbar(pc2, ax=axs[0,1],fraction=0.026, pad=0.04)\n",
    "axs[0,1].set_title(f\"Minimum temperature on {month_options.value}/{day_options.value}/{year_options.value}\")\n",
    "\n",
    "pc3 = axs[1,0].pcolormesh(lons, lats, tavg[day_value], cmap='jet', vmin=-30, vmax=50)\n",
    "plt.colorbar(pc3, ax=axs[1,0],fraction=0.026, pad=0.04)\n",
    "axs[1,0].set_title(f\"Average temperature on {month_options.value}/{day_options.value}/{year_options.value}\")\n",
    "\n",
    "pc4 = axs[1,1].pcolormesh(lons, lats, prcp[day_value], cmap='jet', vmin=0, vmax=50)\n",
    "plt.colorbar(pc4, ax=axs[1,1],fraction=0.026, pad=0.04)\n",
    "axs[1,1].set_title(f\"Precipitation amount on {month_options.value}/{day_options.value}/{year_options.value}\")\n",
    "\n",
    "#formatting the plots\n",
    "for i in range(0,2):\n",
    "    for j in range(0,2):\n",
    "        axs[i,j].add_feature(cf.LAKES)\n",
    "        axs[i,j].add_feature(cf.OCEAN)\n",
    "        states = cf.NaturalEarthFeature(\n",
    "                category='cultural',\n",
    "                name='admin_1_states_provinces_lines',\n",
    "                scale='50m',\n",
    "                facecolor='none')\n",
    "        axs[i,j].add_feature(states, edgecolor=\"white\")\n",
    "        gl = axs[i,j].gridlines(crs=ccrs.PlateCarree(), draw_labels=True,\n",
    "                  linewidth=1, color='black', alpha=0.05, linestyle='-')\n",
    "        gl.top_labels = False\n",
    "        gl.left_labels = True\n",
    "        gl.right_labels = False\n",
    "        gl.xlines = True\n",
    "        gl.ylines = True\n",
    "plt.show(fig)\n",
    "plt.close(fig)\n",
    "plt.close(\"all\")"
   ]
  },
  {
   "cell_type": "markdown",
   "metadata": {},
   "source": [
    "### Step 4: Calculate the climatological average for your day.\n",
    "Goal: visualize the typical temperature and precipitation conditions for your chosen day by taking the average of historical datasets. "
   ]
  },
  {
   "cell_type": "code",
   "execution_count": null,
   "metadata": {
    "tags": []
   },
   "outputs": [],
   "source": [
    "# averaging all monthly data (1951-1990) together now. This takes awhile, track progress in command line!!\n",
    "beginning = 1951\n",
    "end = 1990\n",
    "\n",
    "tmax_array = np.zeros(shape=(end-beginning,596,1385))\n",
    "tmin_array = np.zeros(shape=(end-beginning,596,1385))\n",
    "tavg_array = np.zeros(shape=(end-beginning,596,1385))\n",
    "prcp_array = np.zeros(shape=(end-beginning,596,1385))\n",
    "\n",
    "count = 0\n",
    "\n",
    "for yr in tqdm(range(beginning, end)):\n",
    "    resp = requests.get(f'https://noaa-nclimgrid-daily-pds.s3.amazonaws.com/v1-0-0/grids/{yr}/ncdd-{yr}{month_options.value}-grd-scaled.nc')\n",
    "    file_name = f'ncdd-{yr}{month_options.value}-grd-scaled.nc'\n",
    "    nc = netCDF4.Dataset(file_name, memory = resp.content)\n",
    "    \n",
    "    tmax_day = (nc.variables[\"tmax\"])[day_value]\n",
    "    tmin_day = (nc.variables[\"tmin\"])[day_value]\n",
    "    prcp_day = (nc.variables[\"prcp\"])[day_value]\n",
    "    tavg_day  = (nc.variables[\"tavg\"])[day_value]\n",
    "    \n",
    "    nc.close()\n",
    "    \n",
    "    tmax_array[count,:,:] = tmax_day\n",
    "    tmin_array[count,:,:] = tmin_day\n",
    "    tavg_array[count,:,:] = tavg_day\n",
    "    prcp_array[count,:,:] = prcp_day\n",
    "\n",
    "    count += 1\n",
    "    sleep(1)\n",
    "    \n",
    "#averaging array across all years\n",
    "tmax_array_averaged = np.nanmean(tmax_array, axis=0)\n",
    "tmin_array_averaged = np.nanmean(tmin_array, axis=0)\n",
    "tavg_array_averaged = np.nanmean(tavg_array, axis=0)\n",
    "prcp_array_averaged = np.nanmean(prcp_array, axis=0)\n",
    "\n",
    "#plot\n",
    "fig, axs = plt.subplots(nrows=2,ncols=2, subplot_kw={'projection': ccrs.PlateCarree()}, figsize=(16,9))\n",
    "\n",
    "pc1 = axs[0,0].pcolormesh(lons, lats, tmax_array_averaged, cmap='jet', vmin=-30, vmax=50)\n",
    "plt.colorbar(pc1, ax=axs[0,0],fraction=0.026, pad=0.04)\n",
    "axs[0,0].set_title(f\"Average maximum temperature on {month_options.value}/{day_options.value}\\n from the record {beginning} to {end-1}\")\n",
    "\n",
    "pc2 = axs[0,1].pcolormesh(lons, lats, tmin_array_averaged, cmap='jet', vmin=-30, vmax=50)\n",
    "plt.colorbar(pc2, ax=axs[0,1],fraction=0.026, pad=0.04)\n",
    "axs[0,1].set_title(f\"Average minimum temperature on {month_options.value}/{day_options.value}\\n from the record {beginning} to {end-1}\")\n",
    "\n",
    "pc3 = axs[1,0].pcolormesh(lons, lats, tavg_array_averaged, cmap='jet', vmin=-30, vmax=50)\n",
    "plt.colorbar(pc3, ax=axs[1,0],fraction=0.026, pad=0.04)\n",
    "axs[1,0].set_title(f\"Average temperature on {month_options.value}/{day_options.value}\\n from the record {beginning} to {end-1}\")\n",
    "\n",
    "pc4 = axs[1,1].pcolormesh(lons, lats, prcp_array_averaged, cmap='jet', vmin=0, vmax=20)\n",
    "plt.colorbar(pc4, ax=axs[1,1],fraction=0.026, pad=0.04)\n",
    "axs[1,1].set_title(f\"Average precipitation amount on {month_options.value}/{day_options.value}\\n from the record {beginning} to {end-1}\")\n",
    "\n",
    "for i in range(0,2):\n",
    "    for j in range(0,2):\n",
    "        axs[i,j].add_feature(cf.LAKES)\n",
    "        axs[i,j].add_feature(cf.OCEAN)\n",
    "        states = cf.NaturalEarthFeature(\n",
    "                category='cultural',\n",
    "                name='admin_1_states_provinces_lines',\n",
    "                scale='50m',\n",
    "                facecolor='none')\n",
    "        axs[i,j].add_feature(states, edgecolor=\"white\")\n",
    "        gl = axs[i,j].gridlines(crs=ccrs.PlateCarree(), draw_labels=True,\n",
    "                  linewidth=1, color='black', alpha=0.05, linestyle='-')\n",
    "        gl.top_labels = False\n",
    "        gl.left_labels = True\n",
    "        gl.right_labels = False\n",
    "        gl.xlines = True\n",
    "        gl.ylines = True\n",
    "plt.show(fig)\n",
    "plt.close(fig)\n",
    "plt.close(\"all\")"
   ]
  },
  {
   "cell_type": "markdown",
   "metadata": {},
   "source": [
    "### Step 5: Compare the variables from your selected day to the climatological average.\n",
    "Goal: visualize whether your chosen day is warmer/colder, wetter/drier than typical conditions. "
   ]
  },
  {
   "cell_type": "code",
   "execution_count": null,
   "metadata": {
    "tags": []
   },
   "outputs": [],
   "source": [
    "# departure from climatological mean\n",
    "tmax_departure_from_mean = tmax[day_value] - tmax_array_averaged \n",
    "tmin_departure_from_mean = tmin[day_value] - tmin_array_averaged \n",
    "tavg_departure_from_mean = tavg[day_value] - tavg_array_averaged \n",
    "prcp_departure_from_mean = prcp[day_value] - prcp_array_averaged \n",
    "\n",
    "#plot\n",
    "fig, axs = plt.subplots(nrows=2,ncols=2, subplot_kw={'projection': ccrs.PlateCarree()}, figsize=(16,9))\n",
    "\n",
    "pc1 = axs[0,0].pcolormesh(lons, lats, tmax_departure_from_mean, cmap='RdBu_r', vmin=-20, vmax=20)\n",
    "plt.colorbar(pc1, ax=axs[0,0],fraction=0.026, pad=0.04)\n",
    "axs[0,0].set_title(f\"Maximum temperature on {month_options.value}/{day_options.value}/{year_options.value}:\\nDifference from the climatological average\")\n",
    "\n",
    "pc2 = axs[0,1].pcolormesh(lons, lats, tmin_departure_from_mean, cmap='RdBu_r', vmin=-20, vmax=20)\n",
    "plt.colorbar(pc2, ax=axs[0,1],fraction=0.026, pad=0.04)\n",
    "axs[0,1].set_title(f\"Minimum temperature on {month_options.value}/{day_options.value}/{year_options.value}:\\nDifference from the climatological average\")\n",
    "\n",
    "pc3 = axs[1,0].pcolormesh(lons, lats, tavg_departure_from_mean, cmap='RdBu_r', vmin=-20, vmax=20)\n",
    "plt.colorbar(pc3, ax=axs[1,0],fraction=0.026, pad=0.04)\n",
    "axs[1,0].set_title(f\"Average temperature on {month_options.value}/{day_options.value}/{year_options.value}:\\nDifference from the climatological average\")\n",
    "\n",
    "pc4 = axs[1,1].pcolormesh(lons, lats, prcp_departure_from_mean, cmap='RdBu', vmin=-20, vmax=20)\n",
    "plt.colorbar(pc4, ax=axs[1,1],fraction=0.026, pad=0.04)\n",
    "axs[1,1].set_title(f\"Precipitation amount on {month_options.value}/{day_options.value}/{year_options.value}:\\nDifference from the climatological average\")\n",
    "\n",
    "#universal formatting\n",
    "for i in range(0,2):\n",
    "    for j in range(0,2):\n",
    "        axs[i,j].add_feature(cf.LAKES)\n",
    "        axs[i,j].add_feature(cf.OCEAN)\n",
    "        states = cf.NaturalEarthFeature(\n",
    "                category='cultural',\n",
    "                name='admin_1_states_provinces_lines',\n",
    "                scale='50m',\n",
    "                facecolor='none')\n",
    "        axs[i,j].add_feature(states, edgecolor=\"white\")\n",
    "        gl = axs[i,j].gridlines(crs=ccrs.PlateCarree(), draw_labels=True,\n",
    "                  linewidth=1, color='black', alpha=0.05, linestyle='-')\n",
    "        gl.top_labels = False\n",
    "        gl.left_labels = True\n",
    "        gl.right_labels = False\n",
    "        gl.xlines = True\n",
    "        gl.ylines = True\n",
    "        \n",
    "plt.show(fig)\n",
    "plt.close(fig)\n",
    "plt.close(\"all\")"
   ]
  },
  {
   "cell_type": "markdown",
   "metadata": {},
   "source": [
    "**NClimGrid documentation:**\n",
    "- https://www.ncei.noaa.gov/products/land-based-station/nclimgrid-daily (NCEI product page)\n",
    "- https://www.ncei.noaa.gov/data/nclimgrid-daily/doc/nclimgrid-daily_v1-0-0_user-guide.pdf (User guide)\n",
    "- https://journals.ametsoc.org/view/journals/atot/39/12/JTECH-D-22-0024.1.xml (Journal article)"
   ]
  },
  {
   "cell_type": "markdown",
   "metadata": {},
   "source": [
    "**CSP Access:**\n",
    "- AWS: https://registry.opendata.aws/noaa-nclimgrid/\n",
    "- Azure: https://microsoft.github.io/AIforEarthDataSets/data/noaa-nclimgrid.html"
   ]
  },
  {
   "cell_type": "markdown",
   "metadata": {},
   "source": [
    "The unique component of this Jupyter notebook is that you are not requried to download any datasets -- all data will be pulled directly from the AWS cloud. You can learn more about NOAA's efforts to move more data to the cloud at this site: https://www.noaa.gov/information-technology/open-data-dissemination. As we continute to make more data widely accessible on the cloud, we'll also create more Jupyter notebooks like this one, so anyone can visualize weather and climate data without any cost or restriction. "
   ]
  }
 ],
 "metadata": {
  "kernelspec": {
   "display_name": "Python 3 (ipykernel)",
   "language": "python",
   "name": "python3"
  },
  "language_info": {
   "codemirror_mode": {
    "name": "ipython",
    "version": 3
   },
   "file_extension": ".py",
   "mimetype": "text/x-python",
   "name": "python",
   "nbconvert_exporter": "python",
   "pygments_lexer": "ipython3",
   "version": "3.11.4"
  }
 },
 "nbformat": 4,
 "nbformat_minor": 4
}
