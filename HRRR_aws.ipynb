{
 "cells": [
  {
   "cell_type": "markdown",
   "id": "15c57d1e-fcbf-495d-b84c-564d2c736db8",
   "metadata": {},
   "source": [
    "# Welcome to the HRRR data notebook!\n",
    "#### **Audience:** Anybody with a computer and access to at least 4GB of memory.\n",
    "#### **Intent:** Extract data from the most recently updated HRRR run to produce a 12-hour forecast for a latitude/longitude point. \n",
    "#### **Outcome:** A 12-hour forecast from HRRR's latest model run in csv format, and a graphical depiction of key forecast variables.          \n",
    "\n",
    "This notebook is an introduction to accessing HRRR data from the AWS Cloud. The first block of code, when run, produces a csv file populated with forecasted surface variables from the latest HRRR run, which cover an extent of 12 hours from the current time step. If desired, this code block can be run automatically, at a certain time or on computer start-up, with the assistance of other programs. The remaining blocks of code are meant to provide a rudimentary visualization of the variables forecasted for the next 12 hours. "
   ]
  },
  {
   "cell_type": "markdown",
   "id": "520fdfa5-b27c-4bdc-a690-9323d6a9adc4",
   "metadata": {},
   "source": [
    "## Importing"
   ]
  },
  {
   "cell_type": "code",
   "execution_count": null,
   "id": "9c32903e-5f8e-496a-9388-4429bb266969",
   "metadata": {
    "tags": []
   },
   "outputs": [],
   "source": [
    "import s3fs\n",
    "import numpy as np\n",
    "from datetime import datetime\n",
    "from datetime import date, timedelta\n",
    "import numcodecs as ncd\n",
    "import metpy\n",
    "import metpy.units as mu\n",
    "import metpy.calc as mc\n",
    "import pandas as pd \n",
    "import xarray as xr\n",
    "import cartopy.crs as ccrs"
   ]
  },
  {
   "cell_type": "markdown",
   "id": "b153f07a-f845-47b6-a013-79f058e0933d",
   "metadata": {},
   "source": [
    "## Definitions and Data Organization"
   ]
  },
  {
   "cell_type": "code",
   "execution_count": null,
   "id": "8a51e7c1-ef61-4e78-ae18-8b36fcd02cf9",
   "metadata": {
    "tags": []
   },
   "outputs": [],
   "source": [
    "def get_nearest_point(projection, chunk_index, longitude, latitude):\n",
    "    x, y = projection.transform_point(longitude, latitude, ccrs.PlateCarree())\n",
    "    return chunk_index.sel(x=x, y=y, method=\"nearest\")\n",
    "\n",
    "def retrieve_data(s3_url):\n",
    "    with fs.open(s3_url, 'rb') as compressed_data: # using s3fs\n",
    "        buffer = ncd.blosc.decompress(compressed_data.read())\n",
    "\n",
    "        dtype = \"<f2\"\n",
    "        if \"surface/PRES\" in s3_url: # surface/PRES is the only variable with a larger data type\n",
    "            dtype = \"<f4\"\n",
    "\n",
    "        chunk = np.frombuffer(buffer, dtype=dtype)\n",
    "        \n",
    "        entry_size = 150*150\n",
    "        num_entries = len(chunk)//entry_size\n",
    "\n",
    "        if num_entries == 1: # analysis file is 2d\n",
    "            data_array = np.reshape(chunk, (150, 150))\n",
    "        else:\n",
    "            data_array = np.reshape(chunk, (num_entries, 150, 150))\n",
    "\n",
    "    return data_array\n",
    "\n",
    "# Lists\n",
    "forecast_hour = []\n",
    "date_list = []\n",
    "temp_list = []\n",
    "pres_list = []\n",
    "snow_list = []\n",
    "gust_list = []\n",
    "accum_snow = []\n",
    "rh_list = []\n",
    "ugrd_list = []\n",
    "vgrd_list = []\n",
    "wind_list = []\n",
    "carinal_wind_dir = []\n",
    "\n",
    "surface_list = [\"SNOD\", \"GUST\", \"ASNOW_acc_fcst\", \"PRES\",\"TMP\"]\n",
    "twom_list = [\"RH\"]\n",
    "tenm_list = [\"UGRD\", \"VGRD\", \"WIND_1hr_max_fcst\"]\n",
    "\n",
    "# Location\n",
    "point_lat = 39.58148838130895\n",
    "point_lon = -105.94259648925797\n",
    "\n",
    "# Find chunk that contains coordinates\n",
    "fs = s3fs.S3FileSystem(anon=True)\n",
    "\n",
    "chunk_index = xr.open_zarr(s3fs.S3Map(\"s3://hrrrzarr/grid/HRRR_chunk_index.zarr\", s3=fs))\n",
    "projection = ccrs.LambertConformal(central_longitude=262.5, \n",
    "                                   central_latitude=38.5, \n",
    "                                   standard_parallels=(38.5, 38.5),\n",
    "                                    globe=ccrs.Globe(semimajor_axis=6371229,\n",
    "                                                     semiminor_axis=6371229))\n",
    "nearest_point = get_nearest_point(projection, chunk_index, point_lon, point_lat)\n",
    "fcst_chunk_id = f\"0.{nearest_point.chunk_id.values}\"\n",
    "\n",
    "# Date range:\n",
    "now = datetime.now() - timedelta(hours=3)\n",
    "day = now.strftime(\"%Y%m%d\")\n",
    "hr = now.strftime(\"%H\")\n",
    "\n",
    "for var in surface_list:\n",
    "    level = 'surface'\n",
    "    data_url = f'hrrrzarr/sfc/{day}/{day}_{hr}z_fcst.zarr/{level}/{var}/{level}/{var}/'\n",
    "\n",
    "    data = retrieve_data(data_url + fcst_chunk_id)\n",
    "    gridpoint_forecast = data[:, nearest_point.in_chunk_y, nearest_point.in_chunk_x]\n",
    "        \n",
    "    for n in range(3, 15):\n",
    "        if var == \"PRES\":\n",
    "            pres_list.append(gridpoint_forecast[n])\n",
    "            date_list.append(day)\n",
    "            forecast_hour.append(n + int(hr))\n",
    "        if var == \"TMP\":\n",
    "            temp_list.append(gridpoint_forecast[n])\n",
    "        elif var == \"SNOD\":\n",
    "            snow_list.append(gridpoint_forecast[n])\n",
    "        elif var == \"GUST\":\n",
    "            gust_list.append(gridpoint_forecast[n])\n",
    "        elif var == \"ASNOW_acc_fcst\":\n",
    "            accum_snow.append(gridpoint_forecast[n])\n",
    "            \n",
    "for var in twom_list:\n",
    "    level = '2m_above_ground'\n",
    "    data_url = f'hrrrzarr/sfc/{day}/{day}_{hr}z_fcst.zarr/{level}/{var}/{level}/{var}/'\n",
    "\n",
    "    data = retrieve_data(data_url + fcst_chunk_id)\n",
    "    gridpoint_forecast = data[:, nearest_point.in_chunk_y, nearest_point.in_chunk_x]\n",
    "\n",
    "    for n in range(3, 15):\n",
    "        if var == \"RH\":\n",
    "            rh_list.append(gridpoint_forecast[n])\n",
    "            \n",
    "for var in tenm_list:\n",
    "    level = '10m_above_ground'\n",
    "    data_url = f'hrrrzarr/sfc/{day}/{day}_{hr}z_fcst.zarr/{level}/{var}/{level}/{var}/'\n",
    "\n",
    "    data = retrieve_data(data_url + fcst_chunk_id)\n",
    "    gridpoint_forecast = data[:, nearest_point.in_chunk_y, nearest_point.in_chunk_x]\n",
    "\n",
    "    for n in range(3, 15):\n",
    "        if var == \"UGRD\":\n",
    "            ugrd_list.append(gridpoint_forecast[n])\n",
    "        elif var == \"VGRD\":\n",
    "            vgrd_list.append(gridpoint_forecast[n])\n",
    "        elif var == \"WIND_1hr_max_fcst\":\n",
    "            wind_list.append(gridpoint_forecast[n])\n",
    "\n",
    "# Calculate wind direction\n",
    "for i in range(0, len(ugrd_list)):\n",
    "    direction = metpy.calc.wind_direction(ugrd_list[i]*mu.units.metre/mu.units.second, vgrd_list[i]*mu.units.metre/mu.units.second)\n",
    "    cardinal_direction = direction.magnitude\n",
    "    carinal_wind_dir.append(mc.angle_to_direction(int(cardinal_direction)))\n",
    "\n",
    "# Put output into a dataframe\n",
    "output = pd.DataFrame(\n",
    "    {'Date': date_list,\n",
    "     'Hour_UTC': forecast_hour,\n",
    "     'Pres': pres_list,\n",
    "     'Temp': temp_list,\n",
    "     'Snow_Depth': snow_list,\n",
    "     'Hourly_Snow': accum_snow,\n",
    "     'RH': rh_list,\n",
    "     'Gust': gust_list,\n",
    "     'Wind_Dir': carinal_wind_dir,\n",
    "     'Wind_Speed': wind_list,\n",
    "    })\n",
    "\n",
    "# Unit conversions \n",
    "output.Date = pd.to_datetime(output.Date, format='%Y%m%d')\n",
    "output.loc[output[\"Hour_UTC\"] >= 24, \"Date\"] = output[\"Date\"] + timedelta(days=1)\n",
    "output.loc[output[\"Hour_UTC\"] >= 24, \"Hour_UTC\"] = output[\"Hour_UTC\"] - 24\n",
    "output.Date = output.Date.dt.strftime('%m/%d/%y')\n",
    "output.Pres = output.Pres / 3386 # inHg\n",
    "output.Temp = (output.Temp - 273.15) * (9/5) + 32 # F\n",
    "output.Snow_Depth = output.Snow_Depth * 39.37 # in\n",
    "output.Hourly_Snow = output.Hourly_Snow * 39.37 # in\n",
    "output.Gust = output.Gust * 2.24 # mph\n",
    "\n",
    "print(output)\n",
    "\n",
    "# Put output into CSV file\n",
    "output.to_csv('weather.csv', index=False)"
   ]
  },
  {
   "cell_type": "markdown",
   "id": "fb971f79-01db-4993-99c5-02334adbb239",
   "metadata": {
    "tags": []
   },
   "source": [
    "## Visualize the 12-hour forecast."
   ]
  },
  {
   "cell_type": "code",
   "execution_count": null,
   "id": "547bdeb7-e0d8-4f19-a7d7-682636e2b52d",
   "metadata": {
    "tags": []
   },
   "outputs": [],
   "source": [
    "import matplotlib.pyplot as plt\n",
    "\n",
    "print(f\"Current date/time: {datetime.now()} UTC\")\n",
    "print(f\"HRRR data from: {hr} UTC\")\n",
    "\n",
    "fig, (ax1, ax2, ax3, ax4, ax5) = plt.subplots(5, 1, sharex=True)\n",
    "output.Temp.plot(ax=ax1, color = \"red\", label = \"Temperature (F)\")\n",
    "output.Temp.plot(ax=ax1, color = \"red\", label = \"Temperature (F)\")\n",
    "output.RH.plot(ax=ax2, color = \"black\", label = \"Relative Humidity (%)\")\n",
    "output.Gust.plot(ax=ax3, color = \"orange\", label = \"Wind Gust (mph)\")\n",
    "output.Hourly_Snow.plot.bar(ax=ax4, color = \"darkblue\", label = \"Total Snowfall (in)\")\n",
    "output.Snow_Depth.plot.bar(ax=ax5, color = \"lightblue\", label = \"Snow Depth (in)\")\n",
    "ax1.legend()\n",
    "ax1.grid(alpha=0.4)\n",
    "ax1.hlines(y=32, xmin=0, xmax=12, linewidth=.5, linestyles='--', color='blue')\n",
    "ax2.legend()\n",
    "ax2.grid(alpha=0.4)\n",
    "ax3.legend()\n",
    "ax3.grid(alpha=0.4)\n",
    "ax4.legend()\n",
    "ax4.grid(alpha=0.4)\n",
    "ax5.legend()\n",
    "ax5.grid(alpha=0.4)\n",
    "ax1.set_xticklabels(output.Hour_UTC)\n",
    "plt.xlabel(\"Time (UTC)\")"
   ]
  },
  {
   "cell_type": "markdown",
   "id": "e07c984d-9d93-44b5-988f-4b6f5dea2ebb",
   "metadata": {},
   "source": [
    "**HRRR Product Documentation:**\n",
    "- https://rapidrefresh.noaa.gov/hrrr/ (Product page)\n",
    "- https://journals.ametsoc.org/view/journals/wefo/37/8/WAF-D-21-0151.1.xml (Academic paper)\n",
    "- https://rapidrefresh.noaa.gov/RAPv4HRRRv3-OpsTrim.jpg (Domains map)\n",
    "- https://rapidrefresh.noaa.gov/Diag-vars-NOAA-TechMemo.pdf (Variable description)"
   ]
  },
  {
   "cell_type": "markdown",
   "id": "da83cfa4-b3b8-4e25-b88a-862522dd5fef",
   "metadata": {},
   "source": [
    "**Coding Sources:**\n",
    "- https://mesowest.utah.edu/html/hrrr/zarr_documentation/html/ex_python_plot_zarr.html      \n",
    "- https://github.com/ldicarlo1/weather_forecast_bias_correction/blob/main/Bias%20Correction%20of%20Weather%20Forecasts%20Using%20Machine%20Learning.pdf\n",
    "- https://mesowest.utah.edu/html/hrrr/zarr_documentation/html/zarr_variables.html     \n",
    "- https://registry.opendata.aws/noaa-hrrr-pds/"
   ]
  },
  {
   "cell_type": "markdown",
   "id": "bab294d2-4a73-4ef3-a73b-37e49316bb78",
   "metadata": {},
   "source": [
    "**CSP Access:**\n",
    "- AWS: https://registry.opendata.aws/noaa-hrrr-pds/     \n",
    "- Azure: https://microsoft.github.io/AIforEarthDataSets/data/noaa-hrrr.html\n",
    "- Google: https://console.cloud.google.com/marketplace/details/noaa-public/hrrr?supportedpurview=project"
   ]
  },
  {
   "cell_type": "markdown",
   "id": "344832c8-0dd6-4366-b448-c06863558680",
   "metadata": {},
   "source": [
    "The unique component of this Jupyter notebook is that you are not requried to download any datasets -- all data will be pulled directly from the cloud. You can learn more about NOAA's efforts to move more data to the cloud at this site: https://www.noaa.gov/nodd/datasets. As we continute to make more data widely accessible on the cloud, we'll also create more Jupyter notebooks like this one, so anyone can visualize weather and climate data without any cost or restriction. "
   ]
  }
 ],
 "metadata": {
  "kernelspec": {
   "display_name": "Python 3 (ipykernel)",
   "language": "python",
   "name": "python3"
  },
  "language_info": {
   "codemirror_mode": {
    "name": "ipython",
    "version": 3
   },
   "file_extension": ".py",
   "mimetype": "text/x-python",
   "name": "python",
   "nbconvert_exporter": "python",
   "pygments_lexer": "ipython3",
   "version": "3.11.4"
  }
 },
 "nbformat": 4,
 "nbformat_minor": 5
}
