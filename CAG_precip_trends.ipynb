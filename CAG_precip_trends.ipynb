{
 "cells": [
  {
   "cell_type": "markdown",
   "metadata": {},
   "source": [
    "## Welcome to the precipitation trends notebook! \n",
    "\n",
    "#### **Audience:** Anybody with a computer and access to at least 4GB of memory.\n",
    "#### **Intent:** Build familiarity with NOAA's Climate at a Glance dataset and the analysis of climate trends. \n",
    "#### **Outcome:** Statistics, graphs, and plots of precipitation trends.           \n",
    "          \n",
    "This is a Jupyter Notebook meant to facilitate the analysis of precipitation data over time, using historical records stored at NOAA's National Centers for Environmental Information (NCEI). Users will download and analyze real scientific data and see the precipitation trends in their desired region of the United States or the globe. Because users will be using real local data, some data records may be incomplete. As such, it is important to use scientific analysis skills to assess the usability of the chosen dataset and resulting analyses. "
   ]
  },
  {
   "cell_type": "markdown",
   "metadata": {},
   "source": [
    "#### **Read and follow the steps below before beginning the notebook.**   \n",
    "1. **Go to https://www.ncei.noaa.gov/access/monitoring/climate-at-a-glance/ and:**\n",
    "    1. Click on the tab of your desired region (i.e. Nation, State, Division, etc.), then launch \"Time Series\"\n",
    "    2. Choose your precipitation Parameter (precipitation).\n",
    "    3. Choose a Time Scale of 12-month. \n",
    "    4. Choose the month of December, so we get a yearly average for Jan - Dec. \n",
    "    5. Choose whichever start and end year you'd like. I'd recommend downloading the full range of data. \n",
    "    6. Uncheck the \"Display Base Period\" box to the right of the drop-down menus. \n",
    "    7. On the website, click \"Plot\" to visualize the data you've chosen. Does it look like what you want?\n",
    "    8. Below the plot, there's an option to Download the data. Download it as a CSV. \n",
    "9. **(***If using Binder***) Return to your Binder window and:**\n",
    "    1. Click the \"Upload Files\" button just below the \"Run\" tab. It looks like an up arrow with a line underneath. Upload the csv file you just downloaded in step 1, and make sure it appears in your list of files.\n",
    "    2. Then, right-click the csv file and click the option \"Rename.\" Change the name of the csv file to \"climate_data.csv\"\n",
    "9. **(***If not using Binder***) Return to the program you're using to run the notebook and:** \n",
    "    1. Save the csv file you just downloaded in the same directory as your Jupyter notebook. \n",
    "    2. Change the name of your csv file to \"climate_data.csv\"\n",
    "10. **You may begin the notebook!**\n",
    "\n",
    "DISCLAIMER: if you choose a region with missing data points, the program will not calculate the long-term linear trendline. "
   ]
  },
  {
   "cell_type": "markdown",
   "metadata": {},
   "source": [
    "### Step 1: Import Python modules\n",
    "This section of code won't produce any output. The \"import\" statements below make sure the code throughout this entire notebook can be executed correctly. "
   ]
  },
  {
   "cell_type": "code",
   "execution_count": null,
   "metadata": {
    "tags": []
   },
   "outputs": [],
   "source": [
    "import pandas as pd\n",
    "import numpy as np\n",
    "import matplotlib.pyplot as plt\n",
    "import matplotlib.dates as dates\n",
    "import datetime"
   ]
  },
  {
   "cell_type": "markdown",
   "metadata": {},
   "source": [
    "### Step 2: Read and format the csv file to prepare it for analysis. \n",
    "This section allows you to visualize the first few columns of your dataset and make sure it's been read in correctly. If the code below produces an error, there may be an issue with the csv file. Make sure it's in the same directory as this notebook, and that it's named \"precip_data.csv\". "
   ]
  },
  {
   "cell_type": "code",
   "execution_count": null,
   "metadata": {
    "tags": []
   },
   "outputs": [],
   "source": [
    "# Getting the geographical area from the csv.\n",
    "name = pd.read_csv(\"precip_data.csv\", usecols = [0])\n",
    "if (name.columns[0])[-5:] == \"ation\": \n",
    "    region = (name.columns[0])[:-37]\n",
    "else: \n",
    "    region = name.columns[0]\n",
    "    \n",
    "# Getting the variable\n",
    "variable = \"precipitation\"\n",
    "\n",
    "# Reading in the csv file. \n",
    "remove_header_lines = [0,1,2] # lines 0, 1, and 2 are not data, and we need to remove them before opening the CSV\n",
    "precip_data = pd.read_csv(\"precip_data.csv\", skiprows = lambda x: x in remove_header_lines)\n",
    "\n",
    "# Now let's change the \"Date\" column from a string to datetime. This way, Python knows we're working with dates and will organize them chronologically during plotting.\n",
    "precip_data[\"Date\"] = pd.to_datetime(precip_data[\"Date\"], format='%Y%m') \n",
    "\n",
    "# We'll also change the date to \"Year\" only, because this data represents a yearly average. \n",
    "precip_data[\"Date\"] = pd.DatetimeIndex(precip_data[\"Date\"]).year\n",
    "\n",
    "# Let's see a preview of what's inside. \n",
    "print(precip_data.head())"
   ]
  },
  {
   "cell_type": "markdown",
   "metadata": {},
   "source": [
    "### Step 3: Calculate statistics from the dataset\n",
    "This section is meant to understand the breadth and extent of the dataset. The output allows you to learn specific, quantitative facts about the climate data in your chosen location. Although many of these statistics will be plotted later, you may find it interesting to have written facts. "
   ]
  },
  {
   "cell_type": "code",
   "execution_count": null,
   "metadata": {
    "tags": []
   },
   "outputs": [],
   "source": [
    "# Exploring the beginning and end of the dataset. \n",
    "data_start = (precip_data[\"Date\"])[0] #here's the first row in our file.\n",
    "data_end = (precip_data[\"Date\"])[len(precip_data)-1] #and the last row in our file!\n",
    "print(f\"This {region} dataset begins in {data_start} and ends in {data_end}.\")\n",
    "\n",
    "# Hot & cold years on record \n",
    "wettest = precip_data.loc[precip_data['Value'].idxmax()] #maximum precip amount in the dataset\n",
    "driest = precip_data.loc[precip_data['Value'].idxmin()] #minimum precip amount in the dataset\n",
    "\n",
    "print() #empty line for better formatting of the print statements.\n",
    "print(f\"The wettest year on record is {round(wettest.Date)} with an annual precipitation amount of {wettest.Value} in\") #\\xb0 is the degree symbol\n",
    "print(f\"The driest year on record is {round(driest.Date)} with an annual precipitation amount of {driest.Value} in\")\n",
    "\n",
    "# Ranking the most recent year as the nth hottest on record.\n",
    "precip_data[\"Rank\"] = precip_data[\"Value\"].rank(axis=0, method='max', ascending=False)\n",
    "recent_rank = ((precip_data[\"Rank\"])[len(precip_data)-1])\n",
    "\n",
    "print()\n",
    "print(f\"The most recent year in your dataset, {data_end}, ranks number {int(recent_rank)} out of {len(precip_data)} in the wettest years on record.\")\n",
    "\n",
    "# Rate of warming since beginning of record and since 1981 \n",
    "z1 = np.polyfit(precip_data[\"Date\"], precip_data['Value'], 1) #making a linear trend line with all data!\n",
    "p1 = np.poly1d(z1)\n",
    "\n",
    "index_of_1981 = int(precip_data[precip_data['Date']==1981].index[0]) #finding the location of the 1981 data so we can refine our dataset \n",
    "z2 = np.polyfit((precip_data[\"Date\"])[index_of_1981:], (precip_data['Value'])[index_of_1981:], 1) #limiting the dataset to 1981-most recent, then making a trendline\n",
    "p2 = np.poly1d(z2)\n",
    "\n",
    "print()\n",
    "print(\"The average rate of change of precipitation is\",round((z1[0])*10,2),\"in\", \"per decade since\",data_start)\n",
    "print(\"The average rate of change of precipitation is\",round((z2[0])*10,2),\"in\", \"per decade since 1981\")\n",
    "\n",
    "\n",
    "# ENSO years on record\n",
    "nino = [1897,1900,1903,1906,1915,1919,1926,1931,1941,1942,1958,1966,1973,1978,1980,1983,1987,1988,1992,1995,1998,2003,2007,2010,2016] #ENSO dates from https://psl.noaa.gov/enso/past_events.html\n",
    "nina = [1904,1909,1910,1911,1917,1918,1925,1934,1939,1943,1950,1951,1955,1956,1962,1971,1974,1976,1989,1999,2000,2008,2011,2012,2021,2022]\n",
    "\n",
    "ninoprecip = []\n",
    "ninaprecip = []\n",
    "for y in nino:\n",
    "    if int(y) >= data_start:\n",
    "        ninoyear = precip_data.loc[(precip_data['Date']) == y] #matching El Nino years to lines in our dataset\n",
    "        ninoprecip.append(ninoyear.Value.values) #and adding El Nino annual precip to their own list\n",
    "for z in nina:\n",
    "    if int(y) >= data_start:\n",
    "        ninayear = precip_data.loc[(precip_data['Date']) == z] #same as above, for La Nina\n",
    "        ninaprecip.append(ninayear.Value.values)\n",
    "\n",
    "print()\n",
    "print(\"The average precipitation amount during El Nino years is\",round((sum(ninoprecip)/len(ninoprecip))[0],2),\"in\")\n",
    "print(\"The average precipitation amount during La Nina years is\",round((sum(ninaprecip)/len(ninaprecip))[0],2),\"in\")"
   ]
  },
  {
   "cell_type": "markdown",
   "metadata": {},
   "source": [
    "### Step 4: Plot all precipitation data, including the range of precipitation amounts. \n",
    "This section allows you to visualize the wettest and driest recorded years for your location and understand how the annual precipitation amount changes from year to year."
   ]
  },
  {
   "cell_type": "code",
   "execution_count": null,
   "metadata": {
    "tags": []
   },
   "outputs": [],
   "source": [
    "# Plotting\n",
    "fix, ax = plt.subplots() \n",
    "ax.plot(precip_data[\"Date\"], precip_data['Value'], color=\"black\")\n",
    "plt.xlabel(\"Year\")\n",
    "plt.grid()\n",
    "plt.ylabel(\"Annual Precipitation (in)\") #change the y-axis label to reflect the data product you chose.\n",
    "plt.title(\"Annual Precipitation in \" + region + \"\\n (\"+str(data_start)+\" to \"+str(data_end)+\")\") #change the plot title to reflect the data product you chose.\n",
    "\n",
    "# Putting the wettest/driest year stats on the plot\n",
    "plt.axhline(y=wettest.Value,color=\"blue\",linestyle = 'dashed', label = f\"Wettest year ({wettest.Value} in)\")\n",
    "plt.axhline(y=driest.Value,color=\"orange\",linestyle = 'dashed', label = f\"Driest year ({driest.Value} in)\")\n",
    "plt.legend()"
   ]
  },
  {
   "cell_type": "markdown",
   "metadata": {},
   "source": [
    "As you can see from the above plot, the annual precipitation amount changes a lot from year-to-year, sometimes increasing and sometimes decreasing. Keep in mind that there are numerous meteorological variables that affect the precipitation that falls within a region, and that large variability over the course of a couple years is normal and expected. \n",
    "\n",
    "When scientists analyze precipitation amounts in the context of the climate, there are a couple of strageties we use to look past the year-to-year variability and see the larger picture."
   ]
  },
  {
   "cell_type": "markdown",
   "metadata": {},
   "source": [
    "### Step 5: Plot a rolling average to visualize general trends\n",
    "This section uses a rolling average to visualize precipitation data. The \"rolling average\" calculation in this notebook smooths the year-to-year variability shown in the previous section so the precipitation trends become more apparent. In the graph below, each datapoint is an average of the previous 5 years. "
   ]
  },
  {
   "cell_type": "code",
   "execution_count": null,
   "metadata": {
    "tags": []
   },
   "outputs": [],
   "source": [
    "# Plot\n",
    "fix, ax = plt.subplots()\n",
    "ax.plot(precip_data[\"Date\"], precip_data['Value'].rolling(5).mean(), color=\"black\") \n",
    "plt.xlabel(\"Year\")\n",
    "plt.grid()\n",
    "plt.ylabel(\"Average Annual Precipitation (in), \\n averaged over 5 years\") \n",
    "plt.title(\"Rolling Mean Average Annual Precipitation: \\n\" + region + \" (\"+str(data_start)+\" to \"+str(data_end)+\")\") "
   ]
  },
  {
   "cell_type": "markdown",
   "metadata": {},
   "source": [
    "This plot contains the same data and information as the first one, but the year-to-year variation caused by meteorological variation has mostly disappeared. Now, the larger-scale precipitation trends are more easily visualized."
   ]
  },
  {
   "cell_type": "markdown",
   "metadata": {},
   "source": [
    "### Step 6: Plotting linear trend lines (across the whole record and since 1981)\n",
    "This section also analyzes trends in the precipitation data by calculating linear trend line values. Using the annual precip data located in the csv file, this code calculates a trend over the entire recorded period, then a trend since 1981 (a common start date for climate trend calculations, as global temperatures began to show a notable increase at this time)."
   ]
  },
  {
   "cell_type": "code",
   "execution_count": null,
   "metadata": {
    "tags": []
   },
   "outputs": [],
   "source": [
    "# Let's make a linear trend line!\n",
    "fix, ax = plt.subplots()\n",
    "ax.plot(precip_data[\"Date\"], precip_data['Value'], color=\"black\")\n",
    "plt.xlabel(\"Year\")\n",
    "plt.grid()\n",
    "plt.ylabel(f\"Annual {variable} (in)\") \n",
    "plt.title(f\"Annual {variable} trends in {region}\")\n",
    "\n",
    "#add trendline to plot (entire range of dates)\n",
    "plt.plot(precip_data[\"Date\"], p1(precip_data[\"Date\"]), color = \"darkturquoise\", label = f\"Linear trendline: {data_start} to {data_end}\", linewidth=3) # we already calculated the trendline above, so now we just have to plot it!\n",
    "plt.legend()\n",
    "\n",
    "#add trendline to plot (since 1981)\n",
    "plt.plot((precip_data[\"Date\"])[index_of_1981:], (p2(precip_data[\"Date\"]))[index_of_1981:], color = \"orange\", label = f\"Linear trendline: 1981 to {data_end}\", linewidth=3) # we already calculated the trendline above, so now we just have to plot it!\n",
    "plt.legend()\n",
    "\n",
    "print(f\"Equation for {data_start} to {data_end} trendline: {p1}\")\n",
    "print(f\"Equation for 1981 to {data_end} trendline: {p2}\")"
   ]
  },
  {
   "cell_type": "markdown",
   "metadata": {},
   "source": [
    "Depending on the region you chose, these trendlines may look very different. Unlike temperature trends, which consistently show increases across the globe, precipitation patterns change regionally. Some places are experiencing precipitation decreases, and others are experiencing increases. In addition, precipitaiton events, rates, and type are also undergoing unique changes that these annual averages cannot show us. So, this trendline plot can give us a general idea of precipitation changes, but does not show the full picture. "
   ]
  },
  {
   "cell_type": "markdown",
   "metadata": {},
   "source": [
    "### Step 7: Plot precipitation anomalies across the whole record\n",
    "The visualization of precipitation anomalies is another way that scientists analyze rainfall/drought behavior under climate change. In this scenario, an anomaly is the difference between the annual average precipitation amount (calculated for the 20th century) and the precipitation amount from each year. The plot produced will show precipitation anomalies, or the deviation from \"normal\" precipitation amounts, for your selected region. "
   ]
  },
  {
   "cell_type": "code",
   "execution_count": null,
   "metadata": {
    "tags": []
   },
   "outputs": [],
   "source": [
    "# Formatting dates\n",
    "try:\n",
    "    index_of_1901 = int(precip_data[precip_data['Date']==1901].index[0])\n",
    "except:\n",
    "    index_of_1901 = int(precip_data[precip_data['Date']==data_start].index[0])\n",
    "index_of_2001 = int(precip_data[precip_data['Date']==2001].index[0]) \n",
    "mean_dataset = (precip_data[\"Value\"])[index_of_1901:index_of_2001]\n",
    "print(f\"The annual {variable} in {region} during the 20th century was {round(mean_dataset.mean(),2)}\\xb0F\")\n",
    "\n",
    "# Calculating anomalies\n",
    "precip_data[\"Anomaly\"] = precip_data[\"Value\"] - mean_dataset.mean() \n",
    "print()\n",
    "print(precip_data.head()) \n",
    "\n",
    "# Plot\n",
    "x = precip_data[\"Date\"].to_numpy()\n",
    "y = precip_data[\"Anomaly\"].to_numpy()\n",
    "\n",
    "mask1 = y > 0\n",
    "mask2 = y <= 0 \n",
    "\n",
    "fix, ax = plt.subplots()\n",
    "ax.bar(x[mask1], y[mask1], color = 'royalblue') \n",
    "ax.bar(x[mask2], y[mask2], color = 'orange')\n",
    "plt.xlabel(\"Year\")\n",
    "plt.grid()\n",
    "plt.ylabel(\"Difference from 1901 - 2000 average (in)\") \n",
    "plt.title(f\"Annual {variable} in {region}\")"
   ]
  },
  {
   "cell_type": "markdown",
   "metadata": {},
   "source": [
    "In this plot, the blue bars show years that are wetter than average, and the orange bars show drier years. The taller the bar, the further the precipitation amount was from average. "
   ]
  },
  {
   "cell_type": "markdown",
   "metadata": {},
   "source": [
    "### References and continued reading:\n",
    "EPA: https://www.epa.gov/climate-indicators/climate-change-indicators-us-and-global-precipitation#:~:text=As%20average%20temperatures%20at%20the,increase%20precipitation%20in%20many%20areas.\n",
    "\n",
    "NASA: https://gpm.nasa.gov/resources/faq/how-does-climate-change-affect-precipitation\n",
    "\n",
    "NOAA: https://www.noaa.gov/education/resource-collections/climate/climate-change-impacts\n",
    "\n",
    "Climate.gov: https://www.climate.gov/tags/extreme-rain"
   ]
  }
 ],
 "metadata": {
  "kernelspec": {
   "display_name": "Python 3 (ipykernel)",
   "language": "python",
   "name": "python3"
  },
  "language_info": {
   "codemirror_mode": {
    "name": "ipython",
    "version": 3
   },
   "file_extension": ".py",
   "mimetype": "text/x-python",
   "name": "python",
   "nbconvert_exporter": "python",
   "pygments_lexer": "ipython3",
   "version": "3.11.4"
  }
 },
 "nbformat": 4,
 "nbformat_minor": 4
}
